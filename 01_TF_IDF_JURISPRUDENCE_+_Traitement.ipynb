{
  "nbformat": 4,
  "nbformat_minor": 0,
  "metadata": {
    "kernelspec": {
      "display_name": "Python 3",
      "language": "python",
      "name": "python3"
    },
    "language_info": {
      "codemirror_mode": {
        "name": "ipython",
        "version": 3
      },
      "file_extension": ".py",
      "mimetype": "text/x-python",
      "name": "python",
      "nbconvert_exporter": "python",
      "pygments_lexer": "ipython3",
      "version": "3.7.6"
    },
    "colab": {
      "name": "01 TF IDF JURISPRUDENCE + Traitement.ipynb",
      "provenance": [],
      "include_colab_link": true
    },
    "accelerator": "GPU"
  },
  "cells": [
    {
      "cell_type": "markdown",
      "metadata": {
        "id": "view-in-github",
        "colab_type": "text"
      },
      "source": [
        "<a href=\"https://colab.research.google.com/github/SaadTazroute/FrenchLegalNLP/blob/master/01_TF_IDF_JURISPRUDENCE_%2B_Traitement.ipynb\" target=\"_parent\"><img src=\"https://colab.research.google.com/assets/colab-badge.svg\" alt=\"Open In Colab\"/></a>"
      ]
    },
    {
      "cell_type": "code",
      "metadata": {
        "id": "f1lmqU9DwGpG",
        "colab_type": "code",
        "colab": {
          "base_uri": "https://localhost:8080/",
          "height": 70
        },
        "outputId": "28f506c4-0436-45aa-dc62-9c3222dcdbfe"
      },
      "source": [
        "import pandas as pd\n",
        "import numpy as np\n",
        "from scipy.stats import randint\n",
        "import seaborn as sns # used for plot interactive graph. \n",
        "import matplotlib.pyplot as plt\n",
        "import seaborn as sns\n",
        "from io import StringIO\n",
        "from sklearn.feature_extraction.text import TfidfVectorizer\n",
        "from sklearn.feature_selection import chi2\n",
        "from IPython.display import display\n",
        "from sklearn.model_selection import train_test_split\n",
        "from sklearn.feature_extraction.text import TfidfTransformer\n",
        "from sklearn.naive_bayes import MultinomialNB\n",
        "from sklearn.linear_model import LogisticRegression\n",
        "from sklearn.ensemble import RandomForestClassifier\n",
        "from sklearn.svm import LinearSVC\n",
        "from sklearn.model_selection import cross_val_score\n",
        "from sklearn.metrics import confusion_matrix\n",
        "from sklearn import metrics\n",
        "#import warnings\n",
        "#warnings.filterwarnings(\"ignore\", category=FutureWarning)"
      ],
      "execution_count": 10,
      "outputs": [
        {
          "output_type": "stream",
          "text": [
            "/usr/local/lib/python3.6/dist-packages/statsmodels/tools/_testing.py:19: FutureWarning: pandas.util.testing is deprecated. Use the functions in the public API at pandas.testing instead.\n",
            "  import pandas.util.testing as tm\n"
          ],
          "name": "stderr"
        }
      ]
    },
    {
      "cell_type": "code",
      "metadata": {
        "id": "Pfixiu3JwGpO",
        "colab_type": "code",
        "colab": {}
      },
      "source": [
        "import numpy as np\n",
        "import pandas as pd\n",
        "import seaborn as sns\n",
        "import matplotlib.pyplot as plt\n",
        "plt.rcParams['font.size'] = 14\n",
        "np.set_printoptions(precision=3)\n",
        "# better display of review text in dataframes\n",
        "pd.set_option('display.max_colwidth', None) \n",
        "\n",
        "# Seaborn options\n",
        "sns.set(style=\"whitegrid\", font_scale=1.4)\n",
        "\n",
        "# Auto reload modules\n",
        "%load_ext autoreload\n",
        "%autoreload 2"
      ],
      "execution_count": 11,
      "outputs": []
    },
    {
      "cell_type": "code",
      "metadata": {
        "id": "8TOk4Q57wGpR",
        "colab_type": "code",
        "colab": {}
      },
      "source": [
        "import tensorflow as tf\n",
        "assert tf.__version__ >= \"2.0\""
      ],
      "execution_count": 3,
      "outputs": []
    },
    {
      "cell_type": "code",
      "metadata": {
        "id": "SYBaLvtmwGpY",
        "colab_type": "code",
        "colab": {}
      },
      "source": [
        "import re\n",
        "from nltk import FreqDist\n",
        "from nltk.corpus import stopwords\n",
        "from nltk.stem.snowball import FrenchStemmer\n",
        "from sklearn.feature_extraction.text import CountVectorizer, TfidfTransformer"
      ],
      "execution_count": 12,
      "outputs": []
    },
    {
      "cell_type": "markdown",
      "metadata": {
        "id": "H2H245yEwGpf",
        "colab_type": "text"
      },
      "source": [
        "# Prepare data"
      ]
    },
    {
      "cell_type": "markdown",
      "metadata": {
        "id": "uaJ_cHX6wGpg",
        "colab_type": "text"
      },
      "source": [
        "## Load dataset"
      ]
    },
    {
      "cell_type": "code",
      "metadata": {
        "id": "6fxLqhbJwGph",
        "colab_type": "code",
        "colab": {
          "base_uri": "https://localhost:8080/",
          "height": 121
        },
        "outputId": "d8828533-a17c-4bef-dc61-86f8e0162dc3"
      },
      "source": [
        "from google.colab import drive\n",
        "drive.mount('/content/drive')\n",
        "\n",
        "\n",
        "\n",
        "\n",
        "\n",
        "\n",
        "\n",
        "\n",
        "\n",
        "\n",
        "\n",
        "\n",
        "\n"
      ],
      "execution_count": 5,
      "outputs": [
        {
          "output_type": "stream",
          "text": [
            "Go to this URL in a browser: https://accounts.google.com/o/oauth2/auth?client_id=947318989803-6bn6qk8qdgf4n4g3pfee6491hc0brc4i.apps.googleusercontent.com&redirect_uri=urn%3aietf%3awg%3aoauth%3a2.0%3aoob&response_type=code&scope=email%20https%3a%2f%2fwww.googleapis.com%2fauth%2fdocs.test%20https%3a%2f%2fwww.googleapis.com%2fauth%2fdrive%20https%3a%2f%2fwww.googleapis.com%2fauth%2fdrive.photos.readonly%20https%3a%2f%2fwww.googleapis.com%2fauth%2fpeopleapi.readonly\n",
            "\n",
            "Enter your authorization code:\n",
            "··········\n",
            "Mounted at /content/drive\n"
          ],
          "name": "stdout"
        }
      ]
    },
    {
      "cell_type": "code",
      "metadata": {
        "id": "sFkBviotwGpm",
        "colab_type": "code",
        "colab": {
          "base_uri": "https://localhost:8080/",
          "height": 402
        },
        "outputId": "4a049fe6-b5cb-4e62-96e2-ac0df9c8fe8d"
      },
      "source": [
        "\n",
        "path='/content/drive/My Drive/Freemium02.csv'\n",
        "import pandas as pd\n",
        "data_df = pd.read_csv(path, error_bad_lines=False)\n",
        "data_df=data_df.dropna(how = 'any')\n",
        "data_df=data_df[:10000]\n",
        "\n",
        "\n",
        "#data_df = data_df.drop('idx', 1)\n",
        "\n",
        "data_df.head(2)\n",
        "\n",
        "\n",
        "\n",
        "data_df = pd.DataFrame({'content':data_df['content'],'solution':data_df['solution']})\n",
        "data_df['solution']=data_df['solution'].str.lower()\n",
        "data_df\n",
        "\n",
        "\n",
        "\n",
        "\n",
        "\n"
      ],
      "execution_count": 1,
      "outputs": [
        {
          "output_type": "execute_result",
          "data": {
            "text/html": [
              "<div>\n",
              "<style scoped>\n",
              "    .dataframe tbody tr th:only-of-type {\n",
              "        vertical-align: middle;\n",
              "    }\n",
              "\n",
              "    .dataframe tbody tr th {\n",
              "        vertical-align: top;\n",
              "    }\n",
              "\n",
              "    .dataframe thead th {\n",
              "        text-align: right;\n",
              "    }\n",
              "</style>\n",
              "<table border=\"1\" class=\"dataframe\">\n",
              "  <thead>\n",
              "    <tr style=\"text-align: right;\">\n",
              "      <th></th>\n",
              "      <th>content</th>\n",
              "      <th>solution</th>\n",
              "    </tr>\n",
              "  </thead>\n",
              "  <tbody>\n",
              "    <tr>\n",
              "      <th>0</th>\n",
              "      <td>ANNULATION , sur la demande du sieur Prosper X...</td>\n",
              "      <td>annulation</td>\n",
              "    </tr>\n",
              "    <tr>\n",
              "      <th>1</th>\n",
              "      <td>REJET du pourvoi formé par le sieur Y ... et c...</td>\n",
              "      <td>rejet</td>\n",
              "    </tr>\n",
              "    <tr>\n",
              "      <th>2</th>\n",
              "      <td>ANNULATION , sur la demande des sieurs G ... d...</td>\n",
              "      <td>annulation</td>\n",
              "    </tr>\n",
              "    <tr>\n",
              "      <th>3</th>\n",
              "      <td>ANNULATION , sur la demande des héritiers de l...</td>\n",
              "      <td>annulation</td>\n",
              "    </tr>\n",
              "    <tr>\n",
              "      <th>4</th>\n",
              "      <td>ANNULATION , sur la demande de M . le Procureu...</td>\n",
              "      <td>annulation</td>\n",
              "    </tr>\n",
              "    <tr>\n",
              "      <th>...</th>\n",
              "      <td>...</td>\n",
              "      <td>...</td>\n",
              "    </tr>\n",
              "    <tr>\n",
              "      <th>11340</th>\n",
              "      <td>SUR LE MOYEN UNIQUE : ATTENDU QU ' IL RESULTE ...</td>\n",
              "      <td>rejet</td>\n",
              "    </tr>\n",
              "    <tr>\n",
              "      <th>11341</th>\n",
              "      <td>SUR LE PREMIER MOYEN , PRIS EN SES DEUX BRANCH...</td>\n",
              "      <td>rejet</td>\n",
              "    </tr>\n",
              "    <tr>\n",
              "      <th>11342</th>\n",
              "      <td>SUR LE MOYEN UNIQUE : VU L ' ARTICLE 474 DU CO...</td>\n",
              "      <td>cassation</td>\n",
              "    </tr>\n",
              "    <tr>\n",
              "      <th>11343</th>\n",
              "      <td>SUR LE MOYEN UNIQUE : ATTENDU QU ' UN JUGEMENT...</td>\n",
              "      <td>rejet</td>\n",
              "    </tr>\n",
              "    <tr>\n",
              "      <th>11344</th>\n",
              "      <td>SUR LE MOYEN UNIQUE , PRIS EN SES DEUX PREMIER...</td>\n",
              "      <td>rejet</td>\n",
              "    </tr>\n",
              "  </tbody>\n",
              "</table>\n",
              "<p>10000 rows × 2 columns</p>\n",
              "</div>"
            ],
            "text/plain": [
              "                                                 content    solution\n",
              "0      ANNULATION , sur la demande du sieur Prosper X...  annulation\n",
              "1      REJET du pourvoi formé par le sieur Y ... et c...       rejet\n",
              "2      ANNULATION , sur la demande des sieurs G ... d...  annulation\n",
              "3      ANNULATION , sur la demande des héritiers de l...  annulation\n",
              "4      ANNULATION , sur la demande de M . le Procureu...  annulation\n",
              "...                                                  ...         ...\n",
              "11340  SUR LE MOYEN UNIQUE : ATTENDU QU ' IL RESULTE ...       rejet\n",
              "11341  SUR LE PREMIER MOYEN , PRIS EN SES DEUX BRANCH...       rejet\n",
              "11342  SUR LE MOYEN UNIQUE : VU L ' ARTICLE 474 DU CO...   cassation\n",
              "11343  SUR LE MOYEN UNIQUE : ATTENDU QU ' UN JUGEMENT...       rejet\n",
              "11344  SUR LE MOYEN UNIQUE , PRIS EN SES DEUX PREMIER...       rejet\n",
              "\n",
              "[10000 rows x 2 columns]"
            ]
          },
          "metadata": {
            "tags": []
          },
          "execution_count": 1
        }
      ]
    },
    {
      "cell_type": "code",
      "metadata": {
        "id": "s5xoiNTKwGpr",
        "colab_type": "code",
        "colab": {
          "base_uri": "https://localhost:8080/",
          "height": 118
        },
        "outputId": "d7010922-cf85-450a-c724-add1179f1190"
      },
      "source": [
        "resultat = data_df.groupby('solution')['content'].nunique()\n",
        "resultat"
      ],
      "execution_count": 2,
      "outputs": [
        {
          "output_type": "execute_result",
          "data": {
            "text/plain": [
              "solution\n",
              "annulation          35\n",
              "cassation         3260\n",
              "irrecevabilite     218\n",
              "rejet             6486\n",
              "Name: content, dtype: int64"
            ]
          },
          "metadata": {
            "tags": []
          },
          "execution_count": 2
        }
      ]
    },
    {
      "cell_type": "code",
      "metadata": {
        "id": "yYqsULIqH12Q",
        "colab_type": "code",
        "colab": {}
      },
      "source": [
        "def get_split(text1):\n",
        "  l_total = []\n",
        "  l_parcial = []\n",
        "  if len(text1.split())//150 >0:\n",
        "    n = len(text1.split())//150\n",
        "  else: \n",
        "    n = 1\n",
        "  for w in range(n):\n",
        "    if w == 0:\n",
        "      l_parcial = text1.split()[250:500]\n",
        "      l_total.append(\" \".join(l_parcial))\n",
        "  return l_total"
      ],
      "execution_count": 3,
      "outputs": []
    },
    {
      "cell_type": "code",
      "metadata": {
        "id": "OnaBk-piH6Ut",
        "colab_type": "code",
        "colab": {
          "base_uri": "https://localhost:8080/",
          "height": 195
        },
        "outputId": "be004aa2-3e1f-468c-93fa-061d9cb0ddc6"
      },
      "source": [
        "data_df['content'] = data_df['content'].apply(get_split)\n",
        "data_df['content']=data_df['content'].astype(str)\n",
        "\n",
        "data_df.head()"
      ],
      "execution_count": 4,
      "outputs": [
        {
          "output_type": "execute_result",
          "data": {
            "text/html": [
              "<div>\n",
              "<style scoped>\n",
              "    .dataframe tbody tr th:only-of-type {\n",
              "        vertical-align: middle;\n",
              "    }\n",
              "\n",
              "    .dataframe tbody tr th {\n",
              "        vertical-align: top;\n",
              "    }\n",
              "\n",
              "    .dataframe thead th {\n",
              "        text-align: right;\n",
              "    }\n",
              "</style>\n",
              "<table border=\"1\" class=\"dataframe\">\n",
              "  <thead>\n",
              "    <tr style=\"text-align: right;\">\n",
              "      <th></th>\n",
              "      <th>content</th>\n",
              "      <th>solution</th>\n",
              "    </tr>\n",
              "  </thead>\n",
              "  <tbody>\n",
              "    <tr>\n",
              "      <th>0</th>\n",
              "      <td>[\"envers les sieurs A ... et B ..., d ' une so...</td>\n",
              "      <td>annulation</td>\n",
              "    </tr>\n",
              "    <tr>\n",
              "      <th>1</th>\n",
              "      <td>[\"Paris , le 4 septembre 1841 , époque à laque...</td>\n",
              "      <td>rejet</td>\n",
              "    </tr>\n",
              "    <tr>\n",
              "      <th>2</th>\n",
              "      <td>[\"restait due , d ' acquitter à l ' hospice de...</td>\n",
              "      <td>annulation</td>\n",
              "    </tr>\n",
              "    <tr>\n",
              "      <th>3</th>\n",
              "      <td>[\"aux donations faites entre époux par contrat...</td>\n",
              "      <td>annulation</td>\n",
              "    </tr>\n",
              "    <tr>\n",
              "      <th>4</th>\n",
              "      <td>[\"général , en ses conclusions ; après en avoi...</td>\n",
              "      <td>annulation</td>\n",
              "    </tr>\n",
              "  </tbody>\n",
              "</table>\n",
              "</div>"
            ],
            "text/plain": [
              "                                             content    solution\n",
              "0  [\"envers les sieurs A ... et B ..., d ' une so...  annulation\n",
              "1  [\"Paris , le 4 septembre 1841 , époque à laque...       rejet\n",
              "2  [\"restait due , d ' acquitter à l ' hospice de...  annulation\n",
              "3  [\"aux donations faites entre époux par contrat...  annulation\n",
              "4  [\"général , en ses conclusions ; après en avoi...  annulation"
            ]
          },
          "metadata": {
            "tags": []
          },
          "execution_count": 4
        }
      ]
    },
    {
      "cell_type": "code",
      "metadata": {
        "id": "UboOD-0XwGpv",
        "colab_type": "code",
        "colab": {
          "base_uri": "https://localhost:8080/",
          "height": 118
        },
        "outputId": "ffed6bb8-efe2-4e25-b0f5-9489865b9446"
      },
      "source": [
        "seuil=20\n",
        "data_df = data_df[data_df.groupby('solution').solution.transform('count')>seuil].copy() \n",
        "data_df\n",
        "resultat = data_df.groupby('solution')['content'].nunique()\n",
        "resultat\n"
      ],
      "execution_count": 5,
      "outputs": [
        {
          "output_type": "execute_result",
          "data": {
            "text/plain": [
              "solution\n",
              "annulation          35\n",
              "cassation         3195\n",
              "irrecevabilite     125\n",
              "rejet             6265\n",
              "Name: content, dtype: int64"
            ]
          },
          "metadata": {
            "tags": []
          },
          "execution_count": 5
        }
      ]
    },
    {
      "cell_type": "code",
      "metadata": {
        "id": "UD15eO5uwGp0",
        "colab_type": "code",
        "colab": {}
      },
      "source": [
        "corpus_docs = []\n",
        "n = len(data_df)\n",
        "corpus_docs = corpus_docs + data_df.iloc[:,0].tolist()\n",
        "corpus_labels = list(data_df['solution'])"
      ],
      "execution_count": 6,
      "outputs": []
    },
    {
      "cell_type": "code",
      "metadata": {
        "id": "zGQXTxszwGqA",
        "colab_type": "code",
        "colab": {
          "base_uri": "https://localhost:8080/",
          "height": 87
        },
        "outputId": "168c3e2c-b89b-431c-dbc1-0a27ae6fa078"
      },
      "source": [
        "corpus_labels[0:2],corpus_docs[0:2]"
      ],
      "execution_count": 7,
      "outputs": [
        {
          "output_type": "execute_result",
          "data": {
            "text/plain": [
              "(['annulation', 'rejet'],\n",
              " ['[\"envers les sieurs A ... et B ..., d \\' une somme de 79000 francs , qu \\' il paraît compter à l \\' instant au sieur Y ..., lequel , à son tour , passa quittance définitive du prix de l \\' office à X .... Les qualités de l \\' arrêt attaqué constatent que X ... paya , pendant neuf mois , les intérêts du capital de 79000 francs prêté par les sieurs A ... et B ..., en sorte que l \\' exécution des deux traités du 13 avril 1838 semble avoir été entière . Mais , le 22 janvier 1841 , X ... assigna devant le tribunal de Rouen , tant Y ..., son vendeur , que les sieurs A ... et B ..., cessionnaires de celui - ci , pour voir dire , Y ..., que , sans égard aux conventions particulières , le prix de l \\' office serait réduit et maintenu aux 85000 francs énoncés dans l \\' acte ostensible , si mieux n \\' aimait Y ... le voir résilié ... etc ., et les sieurs A ... et B ..., pour voir déclarer commun avec eux le jugement à intervenir . Le 18 juillet 1841 , jugement du tribunal qui déclare X ... non recevable dans son action . Sur l \\' appel , arrêt confirmatif de la cour royale de Rouen , intervenu le 18 février 1842 . Le principal motif de cet arrêt était qu \\' à la vérité\"]',\n",
              "  '[\"Paris , le 4 septembre 1841 , époque à laquelle l \\' adoption produisait , depuis quinze ans , tous ses effets légaux au profit de ses trois enfants naturels , ceux - ci se mirent immédiatement en possession de toute la succession . Mais les sieurs Y ... et consorts , se prétendant habiles à succéder au défunt , en qualité d \\' héritiers , intentèrent , par exploit du 29 juin 1843 , contre les enfants X ..., une action en pétition d \\' hérédité , devant le tribunal de première instance de la Seine . Pour saisir ce tribunal de leur contestation , ils se fondaient sur ce que M . X ..., père adoptif , aurait toujours habité à Paris . Les enfants X ... opposèrent d \\' abord l \\' exception d \\' incompétence . Leur déclinatoire ayant été admis par jugement du 14 novembre suivant , les sieurs Y ... et consorts formèrent une nouvelle action le 31 janvier 1844 , à fin de nullité de l \\' adoption consommée en 1828 ; ils la portèrent devant le tribunal civil d \\' Angers . Indépendamment de la demande au fond , ils présentèrent divers moyens de nullité inutiles à mentionner . M . et Mme d \\' B ..., M . et Mme de A ... et M . Félix X ... conclurent à ce qu \\' il fût dit , avant faire droit , que les sieur Y ... et consorts seraient tenus\"]'])"
            ]
          },
          "metadata": {
            "tags": []
          },
          "execution_count": 7
        }
      ]
    },
    {
      "cell_type": "code",
      "metadata": {
        "id": "2G2tTiNrwGqK",
        "colab_type": "code",
        "colab": {
          "base_uri": "https://localhost:8080/",
          "height": 195
        },
        "outputId": "543cf455-8b69-4e97-9dc1-bf5e16d6c0ca"
      },
      "source": [
        "data_df['category_id'] = data_df['solution'].factorize()[0]\n",
        "category_id_df = data_df[['solution', 'category_id']].drop_duplicates()\n",
        "\n",
        "\n",
        "# Dictionaries for future use\n",
        "category_to_id = dict(category_id_df.values)\n",
        "id_to_category = dict(category_id_df[['category_id', 'solution']].values)\n",
        "\n",
        "# New dataframe\n",
        "data_df.head()"
      ],
      "execution_count": 8,
      "outputs": [
        {
          "output_type": "execute_result",
          "data": {
            "text/html": [
              "<div>\n",
              "<style scoped>\n",
              "    .dataframe tbody tr th:only-of-type {\n",
              "        vertical-align: middle;\n",
              "    }\n",
              "\n",
              "    .dataframe tbody tr th {\n",
              "        vertical-align: top;\n",
              "    }\n",
              "\n",
              "    .dataframe thead th {\n",
              "        text-align: right;\n",
              "    }\n",
              "</style>\n",
              "<table border=\"1\" class=\"dataframe\">\n",
              "  <thead>\n",
              "    <tr style=\"text-align: right;\">\n",
              "      <th></th>\n",
              "      <th>content</th>\n",
              "      <th>solution</th>\n",
              "      <th>category_id</th>\n",
              "    </tr>\n",
              "  </thead>\n",
              "  <tbody>\n",
              "    <tr>\n",
              "      <th>0</th>\n",
              "      <td>[\"envers les sieurs A ... et B ..., d ' une so...</td>\n",
              "      <td>annulation</td>\n",
              "      <td>0</td>\n",
              "    </tr>\n",
              "    <tr>\n",
              "      <th>1</th>\n",
              "      <td>[\"Paris , le 4 septembre 1841 , époque à laque...</td>\n",
              "      <td>rejet</td>\n",
              "      <td>1</td>\n",
              "    </tr>\n",
              "    <tr>\n",
              "      <th>2</th>\n",
              "      <td>[\"restait due , d ' acquitter à l ' hospice de...</td>\n",
              "      <td>annulation</td>\n",
              "      <td>0</td>\n",
              "    </tr>\n",
              "    <tr>\n",
              "      <th>3</th>\n",
              "      <td>[\"aux donations faites entre époux par contrat...</td>\n",
              "      <td>annulation</td>\n",
              "      <td>0</td>\n",
              "    </tr>\n",
              "    <tr>\n",
              "      <th>4</th>\n",
              "      <td>[\"général , en ses conclusions ; après en avoi...</td>\n",
              "      <td>annulation</td>\n",
              "      <td>0</td>\n",
              "    </tr>\n",
              "  </tbody>\n",
              "</table>\n",
              "</div>"
            ],
            "text/plain": [
              "                                             content    solution  category_id\n",
              "0  [\"envers les sieurs A ... et B ..., d ' une so...  annulation            0\n",
              "1  [\"Paris , le 4 septembre 1841 , époque à laque...       rejet            1\n",
              "2  [\"restait due , d ' acquitter à l ' hospice de...  annulation            0\n",
              "3  [\"aux donations faites entre époux par contrat...  annulation            0\n",
              "4  [\"général , en ses conclusions ; après en avoi...  annulation            0"
            ]
          },
          "metadata": {
            "tags": []
          },
          "execution_count": 8
        }
      ]
    },
    {
      "cell_type": "markdown",
      "metadata": {
        "id": "IvRNEzW6wGqT",
        "colab_type": "text"
      },
      "source": [
        "## TFIDF\n",
        "\n",
        "The text needs to be transformed to vectors so as the algorithms will be able make predictions. In this case it will be used the Term Frequency – Inverse Document Frequency (TFIDF) weight to evaluate __how important a word is to a document in a collection of documents__.\n",
        "\n",
        "After removing __punctuation__ and __lower casing__ the words, importance of a word is determined in terms of its frequency.\n",
        "\n",
        "\n"
      ]
    },
    {
      "cell_type": "markdown",
      "metadata": {
        "id": "H2rE18jNwGqX",
        "colab_type": "text"
      },
      "source": [
        "## TF-IDF\n",
        "\n",
        "****### “Term Frequency – Inverse Document Frequency \n",
        "\n",
        "__TF-IDF__ is the product of the __TF__ and __IDF__ scores of the term.<br><br> $$\\text{TF-IDF}=\\frac{\\text{TF}}{\\text{IDF}}$$<br>\n",
        "\n",
        "__Term Frequency :__ This summarizes how often a given word appears within a document.\n",
        "\n",
        "$$\\text{TF} = \\frac{\\text{Number of times the term appears in the doc}}{\\text{Total number of words in the doc}}$$<br><br>\n",
        "__Inverse Document Frequency:__ This downscales words that appear a lot across documents. A term has a high IDF score if it appears in a few documents. Conversely, if the term is very common among documents (i.e., “the”, “a”, “is”), the term would have a low IDF score.<br>\n",
        "\n",
        "$$\\text{IDF} = \\ln\\left(\\frac{\\text{Number of docs}}{\\text{Number docs the term appears in}} \\right)$$<br>\n",
        "\n",
        "TF-IDF are word frequency scores that try to highlight words that are more interesting, e.g. frequent in a document but not across documents. The higher the TFIDF score, the rarer the term is. For instance, in a Mortgage complaint the word _mortgage_ would be mentioned fairly often. However, if we look at other complaints, _mortgage_ probably would not show up in many of them. We can infer that _mortgage_ is most probably an important word in Mortgage complaints as compared to the other products. Therefore, _mortgage_ would have a high TF-IDF score for Mortgage complaints.\n",
        "\n",
        "TfidfVectorizer class can be initialized with the following parameters:\n",
        "* __min_df__: remove the words from the vocabulary which have occurred in less than ‘min_df’ number of files.\n",
        "* __max_df__: remove the words from the vocabulary which have occurred in more than _‘max_df’ * total number of files in corpus_.\n",
        "* __sublinear_tf__: set to True to scale the term frequency in logarithmic scale.\n",
        "* __stop_words__: remove the predefined stop words in 'english'.\n",
        "* __use_idf__: weight factor must use inverse document frequency.\n",
        "* __ngram_range__: (1, 2) to indicate that unigrams and bigrams will be considered."
      ]
    },
    {
      "cell_type": "code",
      "metadata": {
        "id": "5Dib4x5NwGqY",
        "colab_type": "code",
        "colab": {
          "base_uri": "https://localhost:8080/",
          "height": 34
        },
        "outputId": "7a6f1566-9741-42c7-cddb-b3ed57feb4e4"
      },
      "source": [
        "\n",
        "\n",
        "\n",
        "\n",
        "tfidf = TfidfVectorizer(sublinear_tf=True, min_df=5,\n",
        "                        ngram_range=(1, 2))\n",
        "\n",
        "# We transform each complaint into a vector\n",
        "features = tfidf.fit_transform(data_df.content).toarray()\n",
        "\n",
        "labels = data_df.category_id\n",
        "\n",
        "print(\"Chacune des %d  jurisprudences est représentée par %d features (TF-IDF score of unigrams and bigrams)\" %(features.shape))\n",
        "\n",
        "\n",
        "\n",
        "\n",
        "\n",
        "\n",
        "\n",
        "    \n",
        "    \n",
        "    \n"
      ],
      "execution_count": 13,
      "outputs": [
        {
          "output_type": "stream",
          "text": [
            "Chacune des 10000  jurisprudences est représentée par 37453 features (TF-IDF score of unigrams and bigrams)\n"
          ],
          "name": "stdout"
        }
      ]
    },
    {
      "cell_type": "code",
      "metadata": {
        "id": "UZDKugvewGqf",
        "colab_type": "code",
        "colab": {
          "base_uri": "https://localhost:8080/",
          "height": 306
        },
        "outputId": "0d1cf42e-441b-49c8-8081-4b4c2bd4b673"
      },
      "source": [
        "# Finding the three most correlated terms with each of the product categories\n",
        "N = 10\n",
        "for solution, category_id in sorted(category_to_id.items()):\n",
        "  features_chi2 = chi2(features, labels == category_id)\n",
        "  indices = np.argsort(features_chi2[0])\n",
        "  feature_names = np.array(tfidf.get_feature_names())[indices]\n",
        "  unigrams = [v for v in feature_names if len(v.split(' ')) == 1]\n",
        "  bigrams = [v for v in feature_names if len(v.split(' ')) == 2]\n",
        "  print(\"\\n==> %s:\" %(solution))\n",
        "  print(\"  * Most Correlated Unigrams are: %s\" %(', '.join(unigrams[-N:])))\n",
        "  print(\"  * Most Correlated Bigrams are: %s\" %(', '.join(bigrams[-N:])))\n",
        "    \n",
        "    \n",
        "    \n",
        "    "
      ],
      "execution_count": 14,
      "outputs": [
        {
          "output_type": "stream",
          "text": [
            "\n",
            "==> annulation:\n",
            "  * Most Correlated Unigrams are: défaut, 1733, même, défendeurs, violé, arrêt, été, prononcé, jugé, napoléon\n",
            "  * Most Correlated Bigrams are: ont été, du même, en déclarant, prononcé chambre, et prononcé, violé les, jugé chambre, ainsi jugé, du napoléon, casse ainsi\n",
            "\n",
            "==> cassation:\n",
            "  * Most Correlated Unigrams are: consequence, avant, ledit, elles, casse, annule, parties, remet, semblable, renvoie\n",
            "  * Most Correlated Bigrams are: et semblable, semblable etat, fait droit, etaient avant, pour etre, etre fait, droit les, les renvoie, renvoie devant, les parties\n",
            "\n",
            "==> irrecevabilite:\n",
            "  * Most Correlated Unigrams are: 228, 184, 413, 592, 345, brumaire, arrets, cites, 393, irrecevable\n",
            "  * Most Correlated Bigrams are: ii 246, cassation declare, declare irrecevable, attaquee en, pourvoi irrecevable, etre attaquee, declare en, consequence irrecevable, motifs declare, irrecevable le\n",
            "\n",
            "==> rejet:\n",
            "  * Most Correlated Unigrams are: avant, ledit, consequence, elles, parties, annule, casse, remet, semblable, renvoie\n",
            "  * Most Correlated Bigrams are: et semblable, semblable etat, fait droit, pour etre, etaient avant, etre fait, droit les, les renvoie, renvoie devant, les parties\n"
          ],
          "name": "stdout"
        }
      ]
    },
    {
      "cell_type": "markdown",
      "metadata": {
        "id": "1puuvYCDwGqm",
        "colab_type": "text"
      },
      "source": [
        "## Multi-Classification models\n",
        "\n",
        "The classification models evaluated are: \n",
        "* Random Forest\n",
        "* Linear Support Vector Machine\n",
        "* Multinomial Naive Bayes \n",
        "* Logistic Regression."
      ]
    },
    {
      "cell_type": "code",
      "metadata": {
        "id": "yYvkdF70wGqn",
        "colab_type": "code",
        "colab": {}
      },
      "source": [
        "X = data_df['content'] # Collection of documents\n",
        "y = data_df['solution'] # Target or the labels we want to predict \n",
        "\n",
        "X_train, X_test, y_train, y_test = train_test_split(X, y, \n",
        "                                                    test_size=0.25,\n",
        "                                                    random_state = 0)"
      ],
      "execution_count": 15,
      "outputs": []
    },
    {
      "cell_type": "markdown",
      "metadata": {
        "id": "oikx13WfwGqs",
        "colab_type": "text"
      },
      "source": [
        "MODELS"
      ]
    },
    {
      "cell_type": "code",
      "metadata": {
        "id": "L2OElzqlwGqt",
        "colab_type": "code",
        "colab": {}
      },
      "source": [
        "models = [\n",
        "    RandomForestClassifier(n_estimators=100, max_depth=5, random_state=0),\n",
        "    LinearSVC(),\n",
        "    MultinomialNB(),\n",
        "    LogisticRegression(random_state=0),\n",
        "]\n",
        "\n",
        "# 5 Cross-validation\n",
        "CV = 5\n",
        "cv_df = pd.DataFrame(index=range(CV * len(models)))\n",
        "\n",
        "entries = []\n",
        "for model in models:\n",
        "  model_name = model.__class__.__name__\n",
        "  accuracies = cross_val_score(model, features, labels, scoring='accuracy', cv=CV)\n",
        "  for fold_idx, accuracy in enumerate(accuracies):\n",
        "    entries.append((model_name, fold_idx, accuracy))\n",
        "    \n",
        "cv_df = pd.DataFrame(entries, columns=['model_name', 'fold_idx', 'accuracy'])"
      ],
      "execution_count": 16,
      "outputs": []
    },
    {
      "cell_type": "markdown",
      "metadata": {
        "id": "ZhUNB1d2wGqx",
        "colab_type": "text"
      },
      "source": [
        "## Comparison of model performance\n",
        "\n",
        "The best mean acuracy was obtained with LinearSVC."
      ]
    },
    {
      "cell_type": "code",
      "metadata": {
        "id": "abBCXbgdwGqy",
        "colab_type": "code",
        "colab": {
          "base_uri": "https://localhost:8080/",
          "height": 195
        },
        "outputId": "6da1d298-0d61-48ed-9d02-f7bcf1d59c91"
      },
      "source": [
        "mean_accuracy = cv_df.groupby('model_name').accuracy.mean()\n",
        "std_accuracy = cv_df.groupby('model_name').accuracy.std()\n",
        "\n",
        "acc = pd.concat([mean_accuracy, std_accuracy], axis= 1, \n",
        "          ignore_index=True)\n",
        "acc.columns = ['Mean Accuracy', 'Standard deviation']\n",
        "acc"
      ],
      "execution_count": 17,
      "outputs": [
        {
          "output_type": "execute_result",
          "data": {
            "text/html": [
              "<div>\n",
              "<style scoped>\n",
              "    .dataframe tbody tr th:only-of-type {\n",
              "        vertical-align: middle;\n",
              "    }\n",
              "\n",
              "    .dataframe tbody tr th {\n",
              "        vertical-align: top;\n",
              "    }\n",
              "\n",
              "    .dataframe thead th {\n",
              "        text-align: right;\n",
              "    }\n",
              "</style>\n",
              "<table border=\"1\" class=\"dataframe\">\n",
              "  <thead>\n",
              "    <tr style=\"text-align: right;\">\n",
              "      <th></th>\n",
              "      <th>Mean Accuracy</th>\n",
              "      <th>Standard deviation</th>\n",
              "    </tr>\n",
              "    <tr>\n",
              "      <th>model_name</th>\n",
              "      <th></th>\n",
              "      <th></th>\n",
              "    </tr>\n",
              "  </thead>\n",
              "  <tbody>\n",
              "    <tr>\n",
              "      <th>LinearSVC</th>\n",
              "      <td>0.9073</td>\n",
              "      <td>0.015991</td>\n",
              "    </tr>\n",
              "    <tr>\n",
              "      <th>LogisticRegression</th>\n",
              "      <td>0.8912</td>\n",
              "      <td>0.014682</td>\n",
              "    </tr>\n",
              "    <tr>\n",
              "      <th>MultinomialNB</th>\n",
              "      <td>0.8540</td>\n",
              "      <td>0.016685</td>\n",
              "    </tr>\n",
              "    <tr>\n",
              "      <th>RandomForestClassifier</th>\n",
              "      <td>0.8422</td>\n",
              "      <td>0.020373</td>\n",
              "    </tr>\n",
              "  </tbody>\n",
              "</table>\n",
              "</div>"
            ],
            "text/plain": [
              "                        Mean Accuracy  Standard deviation\n",
              "model_name                                               \n",
              "LinearSVC                      0.9073            0.015991\n",
              "LogisticRegression             0.8912            0.014682\n",
              "MultinomialNB                  0.8540            0.016685\n",
              "RandomForestClassifier         0.8422            0.020373"
            ]
          },
          "metadata": {
            "tags": []
          },
          "execution_count": 17
        }
      ]
    },
    {
      "cell_type": "code",
      "metadata": {
        "id": "hXHoZrzMwGq3",
        "colab_type": "code",
        "colab": {}
      },
      "source": [
        "## Model evaluation"
      ],
      "execution_count": 18,
      "outputs": []
    },
    {
      "cell_type": "code",
      "metadata": {
        "id": "p4LLPdD_wGq9",
        "colab_type": "code",
        "colab": {}
      },
      "source": [
        "X_train, X_test, y_train, y_test,indices_train,indices_test = train_test_split(features, \n",
        "                                                               labels, \n",
        "                                                               data_df.index, test_size=0.25, \n",
        "                                                               random_state=1)\n",
        "model = LinearSVC()\n",
        "model.fit(X_train, y_train)\n",
        "y_pred = model.predict(X_test)"
      ],
      "execution_count": 19,
      "outputs": []
    },
    {
      "cell_type": "code",
      "metadata": {
        "id": "P2SFaI9GwGrB",
        "colab_type": "code",
        "colab": {
          "base_uri": "https://localhost:8080/",
          "height": 235
        },
        "outputId": "3b1b20ae-6dfa-4c80-fc55-5e50ddb2216c"
      },
      "source": [
        "# Classification report\n",
        "print('\\t\\t\\t\\tCLASSIFICATIION METRICS\\n')\n",
        "print(metrics.classification_report(y_test, y_pred, \n",
        "                                    target_names= data_df['solution'].unique()))"
      ],
      "execution_count": 20,
      "outputs": [
        {
          "output_type": "stream",
          "text": [
            "\t\t\t\tCLASSIFICATIION METRICS\n",
            "\n",
            "                precision    recall  f1-score   support\n",
            "\n",
            "    annulation       1.00      0.17      0.29        12\n",
            "         rejet       0.90      0.99      0.94      1629\n",
            "     cassation       0.95      0.82      0.88       806\n",
            "irrecevabilite       0.92      0.21      0.34        53\n",
            "\n",
            "      accuracy                           0.91      2500\n",
            "     macro avg       0.94      0.55      0.61      2500\n",
            "  weighted avg       0.92      0.91      0.91      2500\n",
            "\n"
          ],
          "name": "stdout"
        }
      ]
    },
    {
      "cell_type": "code",
      "metadata": {
        "id": "CXoVALEmwGrG",
        "colab_type": "code",
        "colab": {}
      },
      "source": [
        ""
      ],
      "execution_count": 20,
      "outputs": []
    },
    {
      "cell_type": "code",
      "metadata": {
        "id": "ThzLaCq7wGrM",
        "colab_type": "code",
        "colab": {
          "base_uri": "https://localhost:8080/",
          "height": 548
        },
        "outputId": "93e700b9-23c2-4a89-ff60-d286cafc78b7"
      },
      "source": [
        "conf_mat = confusion_matrix(y_test, y_pred)\n",
        "fig, ax = plt.subplots(figsize=(8,8))\n",
        "sns.heatmap(conf_mat, annot=True, cmap=\"Blues\", fmt='d',\n",
        "            xticklabels=category_id_df.solution.values, \n",
        "            yticklabels=category_id_df.solution.values)\n",
        "plt.ylabel('Actual')\n",
        "plt.xlabel('Predicted')\n",
        "plt.title(\"CONFUSION MATRIX - LinearSVC\\n\", size=16);"
      ],
      "execution_count": 21,
      "outputs": [
        {
          "output_type": "display_data",
          "data": {
            "image/png": "[encoded data removed]",
            "text/plain": [
              "<Figure size 576x576 with 2 Axes>"
            ]
          },
          "metadata": {
            "tags": []
          }
        }
      ]
    }
  ]
}