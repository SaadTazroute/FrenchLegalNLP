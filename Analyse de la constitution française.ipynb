{
 "cells": [
  {
   "cell_type": "code",
   "execution_count": 47,
   "metadata": {},
   "outputs": [
    {
     "name": "stdout",
     "output_type": "stream",
     "text": [
      "The autoreload extension is already loaded. To reload it, use:\n",
      "  %reload_ext autoreload\n"
     ]
    }
   ],
   "source": [
    "import numpy as np\n",
    "import pandas as pd\n",
    "import seaborn as sns\n",
    "import matplotlib.pyplot as plt\n",
    "plt.rcParams['font.size'] = 14\n",
    "np.set_printoptions(precision=3)\n",
    "# better display of review text in dataframes\n",
    "pd.set_option('display.max_colwidth', None) \n",
    "\n",
    "# Seaborn options\n",
    "sns.set(style=\"whitegrid\", font_scale=1.4)\n",
    "\n",
    "# Auto reload modules\n",
    "%load_ext autoreload\n",
    "%autoreload 2"
   ]
  },
  {
   "cell_type": "code",
   "execution_count": 48,
   "metadata": {},
   "outputs": [],
   "source": [
    "import tensorflow as tf\n",
    "assert tf.__version__ >= \"2.0\""
   ]
  },
  {
   "cell_type": "code",
   "execution_count": 49,
   "metadata": {},
   "outputs": [],
   "source": [
    "import re\n",
    "from nltk import FreqDist\n",
    "from nltk.corpus import stopwords\n",
    "from nltk.stem.snowball import FrenchStemmer\n",
    "from sklearn.feature_extraction.text import CountVectorizer, TfidfTransformer"
   ]
  },
  {
   "cell_type": "markdown",
   "metadata": {},
   "source": [
    "# Prepare data"
   ]
  },
  {
   "cell_type": "markdown",
   "metadata": {},
   "source": [
    "## Load dataset"
   ]
  },
  {
   "cell_type": "code",
   "execution_count": 50,
   "metadata": {},
   "outputs": [],
   "source": [
    "import pandas as pd\n",
    "file_name='C:/Users/21264/Desktop/S8/STAGE LIP6/Datasets/French constitution.csv'\n",
    "data_df = pd.read_csv('C:/Users/21264/Desktop/S8/STAGE LIP6/Datasets/French constitution.csv')\n",
    "data_df = data_df.drop(['title','articles__see_more','introduction','articles__section','articles__created_by__001','articles__created_by__002','articles__modified_by__001','articles__modified_by__002','articles__index'], axis=1)\n",
    "data_df=data_df.dropna(how = 'any')\n"
   ]
  },
  {
   "cell_type": "markdown",
   "metadata": {},
   "source": [
    "## Preprocess dataset"
   ]
  },
  {
   "cell_type": "code",
   "execution_count": 51,
   "metadata": {},
   "outputs": [
    {
     "name": "stderr",
     "output_type": "stream",
     "text": [
      "[nltk_data] Downloading package stopwords to\n",
      "[nltk_data]     C:\\Users\\21264\\AppData\\Roaming\\nltk_data...\n",
      "[nltk_data]   Package stopwords is already up-to-date!\n"
     ]
    }
   ],
   "source": [
    "import string\n",
    "import re\n",
    "import nltk\n",
    "from nltk.tokenize import RegexpTokenizer\n",
    "from nltk.stem.snowball import SnowballStemmer\n",
    "from nltk.corpus import stopwords\n",
    "nltk.download('stopwords')\n",
    "stop_words_en = stopwords.words()\n",
    "stop_words_fr = stopwords.words('french')\n",
    "stop_words = stop_words_en + stop_words_fr \n",
    "\n",
    "def process_text(value):\n",
    "    \n",
    "    try:\n",
    "         # Remove digits\n",
    "        value = re.sub(r'\\d','',value)\n",
    "        # Remove punctuation, unnecessary whitespaces, and convert to lower case\n",
    "        value = value.encode('utf-8', 'ignore').decode('utf-8')\n",
    "        value = re.sub(r'\\s+', ' ', value.strip()\n",
    "                                .lower()\n",
    "                                .translate(str.maketrans(string.punctuation,\n",
    "                                                         ' ' * len(string.punctuation))))\n",
    "\n",
    "        # Remove stop words and unnecessary words\n",
    "        words = value.split(' ')\n",
    "        value = ' '.join(w for w in words if (not w in stop_words) and (len(w) > 2))\n",
    "        \n",
    "    except Exception as e:\n",
    "        print(f\"Error: {e}\")\n",
    "    \n",
    "    return value    "
   ]
  },
  {
   "cell_type": "code",
   "execution_count": 52,
   "metadata": {},
   "outputs": [
    {
     "data": {
      "text/html": [
       "<div>\n",
       "<style scoped>\n",
       "    .dataframe tbody tr th:only-of-type {\n",
       "        vertical-align: middle;\n",
       "    }\n",
       "\n",
       "    .dataframe tbody tr th {\n",
       "        vertical-align: top;\n",
       "    }\n",
       "\n",
       "    .dataframe thead th {\n",
       "        text-align: right;\n",
       "    }\n",
       "</style>\n",
       "<table border=\"1\" class=\"dataframe\">\n",
       "  <thead>\n",
       "    <tr style=\"text-align: right;\">\n",
       "      <th></th>\n",
       "      <th>articles__text</th>\n",
       "      <th>articles__title</th>\n",
       "      <th>processedtext</th>\n",
       "    </tr>\n",
       "  </thead>\n",
       "  <tbody>\n",
       "    <tr>\n",
       "      <th>count</th>\n",
       "      <td>105</td>\n",
       "      <td>105</td>\n",
       "      <td>105</td>\n",
       "    </tr>\n",
       "    <tr>\n",
       "      <th>unique</th>\n",
       "      <td>105</td>\n",
       "      <td>105</td>\n",
       "      <td>105</td>\n",
       "    </tr>\n",
       "    <tr>\n",
       "      <th>top</th>\n",
       "      <td>Le Parlement vote les projets de loi de finances dans les conditions prévues par une loi organique. Si l'Assemblée nationale ne s'est pas prononcée en première lecture dans le délai de quarante jours après le dépôt d'un projet, le Gouvernement saisit le Sénat qui doit statuer dans un délai de quinze jours. Il est ensuite procédé dans les conditions prévues à l'article 45. Si le Parlement ne s'est pas prononcé dans un délai de soixante-dix jours, les dispositions du projet peuvent être mises en vigueur par ordonnance. Si la loi de finances fixant les ressources et les charges d'un exercice n'a pas été déposée en temps utile pour être promulguée avant le début de cet exercice, le Gouvernement demande d'urgence au Parlement l'autorisation de percevoir les impôts et ouvre par décret les crédits se rapportant aux services votés. Les délais prévus au présent article sont suspendus lorsque le Parlement n'est pas en session.</td>\n",
       "      <td>Article 34-1</td>\n",
       "      <td>matières autres celles domaine loi caractère réglementaire textes forme législative intervenus matières peuvent être modifiés décrets pris après avis conseil etat ceux textes interviendraient après entrée vigueur présente constitution pourront être modifiés décret conseil constitutionnel déclaré caractère réglementaire vertu alinéa précédent</td>\n",
       "    </tr>\n",
       "    <tr>\n",
       "      <th>freq</th>\n",
       "      <td>1</td>\n",
       "      <td>1</td>\n",
       "      <td>1</td>\n",
       "    </tr>\n",
       "  </tbody>\n",
       "</table>\n",
       "</div>"
      ],
      "text/plain": [
       "                                                                                                                                                                                                                                                                                                                                                                                                                                                                                                                                                                                                                                                                                                                                                                                                                                                                                                                                                            articles__text  \\\n",
       "count                                                                                                                                                                                                                                                                                                                                                                                                                                                                                                                                                                                                                                                                                                                                                                                                                                                                                                                                                                  105   \n",
       "unique                                                                                                                                                                                                                                                                                                                                                                                                                                                                                                                                                                                                                                                                                                                                                                                                                                                                                                                                                                 105   \n",
       "top     Le Parlement vote les projets de loi de finances dans les conditions prévues par une loi organique. Si l'Assemblée nationale ne s'est pas prononcée en première lecture dans le délai de quarante jours après le dépôt d'un projet, le Gouvernement saisit le Sénat qui doit statuer dans un délai de quinze jours. Il est ensuite procédé dans les conditions prévues à l'article 45. Si le Parlement ne s'est pas prononcé dans un délai de soixante-dix jours, les dispositions du projet peuvent être mises en vigueur par ordonnance. Si la loi de finances fixant les ressources et les charges d'un exercice n'a pas été déposée en temps utile pour être promulguée avant le début de cet exercice, le Gouvernement demande d'urgence au Parlement l'autorisation de percevoir les impôts et ouvre par décret les crédits se rapportant aux services votés. Les délais prévus au présent article sont suspendus lorsque le Parlement n'est pas en session.   \n",
       "freq                                                                                                                                                                                                                                                                                                                                                                                                                                                                                                                                                                                                                                                                                                                                                                                                                                                                                                                                                                     1   \n",
       "\n",
       "       articles__title  \\\n",
       "count              105   \n",
       "unique             105   \n",
       "top       Article 34-1   \n",
       "freq                 1   \n",
       "\n",
       "                                                                                                                                                                                                                                                                                                                                                  processedtext  \n",
       "count                                                                                                                                                                                                                                                                                                                                                       105  \n",
       "unique                                                                                                                                                                                                                                                                                                                                                      105  \n",
       "top     matières autres celles domaine loi caractère réglementaire textes forme législative intervenus matières peuvent être modifiés décrets pris après avis conseil etat ceux textes interviendraient après entrée vigueur présente constitution pourront être modifiés décret conseil constitutionnel déclaré caractère réglementaire vertu alinéa précédent  \n",
       "freq                                                                                                                                                                                                                                                                                                                                                          1  "
      ]
     },
     "execution_count": 52,
     "metadata": {},
     "output_type": "execute_result"
    }
   ],
   "source": [
    "\n",
    "data_df['processedtext'] = data_df['articles__text'].apply(lambda x: process_text(x))\n",
    "data_df.describe()\n",
    "\n",
    "\n"
   ]
  },
  {
   "cell_type": "code",
   "execution_count": 53,
   "metadata": {},
   "outputs": [],
   "source": [
    "corpus_docs = []\n",
    "corpus_labels = []\n",
    "n = len(data_df)\n",
    "corpus_docs = corpus_docs + data_df.iloc[:,0].tolist()\n",
    "for i in range (1,n+1):\n",
    "    corpus_labels = corpus_labels + [i]\n"
   ]
  },
  {
   "cell_type": "code",
   "execution_count": 54,
   "metadata": {},
   "outputs": [
    {
     "data": {
      "text/plain": [
       "(105, 105)"
      ]
     },
     "execution_count": 54,
     "metadata": {},
     "output_type": "execute_result"
    }
   ],
   "source": [
    "n,len(corpus_docs)"
   ]
  },
  {
   "cell_type": "code",
   "execution_count": 55,
   "metadata": {},
   "outputs": [
    {
     "data": {
      "text/plain": [
       "([1, 2],\n",
       " [\"Le Peuple français proclame solennellement son attachement aux Droits de l'Homme et aux principes de la souveraineté nationale tels qu'ils sont définis par la Déclaration de 1789, confirmée et complétée par le préambule de la Constitution de 1946, ainsi qu'aux droits et devoirs définis dans la Charte de l'environnement de 2004. En vertu de ces principes et de celui de la libre détermination des peuples, la République offre aux territoires d'outre-mer qui manifestent la volonté d'y adhérer des institutions nouvelles fondées sur l'idéal commun de liberté, d'égalité et de fraternité et conçues en vue de leur évolution démocratique.\",\n",
       "  \"La France est une République indivisible, laïque, démocratique et sociale. Elle assure l'égalité devant la loi de tous les citoyens sans distinction d'origine, de race ou de religion. Elle respecte toutes les croyances. Son organisation est décentralisée.La loi favorise l'égal accès des femmes et des hommes aux mandats électoraux et fonctions électives, ainsi qu'aux responsabilités professionnelles et sociales.\"])"
      ]
     },
     "execution_count": 55,
     "metadata": {},
     "output_type": "execute_result"
    }
   ],
   "source": [
    "corpus_labels[0:2],corpus_docs[0:2]"
   ]
  },
  {
   "cell_type": "code",
   "execution_count": 56,
   "metadata": {},
   "outputs": [
    {
     "data": {
      "text/html": [
       "<div>\n",
       "<style scoped>\n",
       "    .dataframe tbody tr th:only-of-type {\n",
       "        vertical-align: middle;\n",
       "    }\n",
       "\n",
       "    .dataframe tbody tr th {\n",
       "        vertical-align: top;\n",
       "    }\n",
       "\n",
       "    .dataframe thead th {\n",
       "        text-align: right;\n",
       "    }\n",
       "</style>\n",
       "<table border=\"1\" class=\"dataframe\">\n",
       "  <thead>\n",
       "    <tr style=\"text-align: right;\">\n",
       "      <th></th>\n",
       "      <th>article</th>\n",
       "      <th>no_article</th>\n",
       "    </tr>\n",
       "  </thead>\n",
       "  <tbody>\n",
       "    <tr>\n",
       "      <th>0</th>\n",
       "      <td>Le Peuple français proclame solennellement son attachement aux Droits de l'Homme et aux principes de la souveraineté nationale tels qu'ils sont définis par la Déclaration de 1789, confirmée et complétée par le préambule de la Constitution de 1946, ainsi qu'aux droits et devoirs définis dans la Charte de l'environnement de 2004. En vertu de ces principes et de celui de la libre détermination des peuples, la République offre aux territoires d'outre-mer qui manifestent la volonté d'y adhérer des institutions nouvelles fondées sur l'idéal commun de liberté, d'égalité et de fraternité et conçues en vue de leur évolution démocratique.</td>\n",
       "      <td>1</td>\n",
       "    </tr>\n",
       "    <tr>\n",
       "      <th>1</th>\n",
       "      <td>La France est une République indivisible, laïque, démocratique et sociale. Elle assure l'égalité devant la loi de tous les citoyens sans distinction d'origine, de race ou de religion. Elle respecte toutes les croyances. Son organisation est décentralisée.La loi favorise l'égal accès des femmes et des hommes aux mandats électoraux et fonctions électives, ainsi qu'aux responsabilités professionnelles et sociales.</td>\n",
       "      <td>2</td>\n",
       "    </tr>\n",
       "    <tr>\n",
       "      <th>2</th>\n",
       "      <td>La langue de la République est le français. L'emblème national est le drapeau tricolore, bleu, blanc, rouge. L'hymne national est la \"Marseillaise\". La devise de la République est \"Liberté, Egalité, Fraternité\". Son principe est : gouvernement du peuple, par le peuple et pour le peuple.</td>\n",
       "      <td>3</td>\n",
       "    </tr>\n",
       "    <tr>\n",
       "      <th>3</th>\n",
       "      <td>La souveraineté nationale appartient au peuple qui l'exerce par ses représentants et par la voie du référendum. Aucune section du peuple ni aucun individu ne peut s'en attribuer l'exercice. Le suffrage peut être direct ou indirect dans les conditions prévues par la Constitution. Il est toujours universel, égal et secret. Sont électeurs, dans les conditions déterminées par la loi, tous les nationaux français majeurs des deux sexes, jouissant de leurs droits civils et politiques.</td>\n",
       "      <td>4</td>\n",
       "    </tr>\n",
       "    <tr>\n",
       "      <th>4</th>\n",
       "      <td>Les partis et groupements politiques concourent à l'expression du suffrage. Ils se forment et exercent leur activité librement. Ils doivent respecter les principes de la souveraineté nationale et de la démocratie.Ils contribuent à la mise en oeuvre du principe énoncé au second alinéa de l'article 1er dans les conditions déterminées par la loi.La loi garantit les expressions pluralistes des opinions et la participation équitable des partis et groupements politiques à la vie démocratique de la Nation.</td>\n",
       "      <td>5</td>\n",
       "    </tr>\n",
       "  </tbody>\n",
       "</table>\n",
       "</div>"
      ],
      "text/plain": [
       "                                                                                                                                                                                                                                                                                                                                                                                                                                                                                                                                                                                                                                                        article  \\\n",
       "0  Le Peuple français proclame solennellement son attachement aux Droits de l'Homme et aux principes de la souveraineté nationale tels qu'ils sont définis par la Déclaration de 1789, confirmée et complétée par le préambule de la Constitution de 1946, ainsi qu'aux droits et devoirs définis dans la Charte de l'environnement de 2004. En vertu de ces principes et de celui de la libre détermination des peuples, la République offre aux territoires d'outre-mer qui manifestent la volonté d'y adhérer des institutions nouvelles fondées sur l'idéal commun de liberté, d'égalité et de fraternité et conçues en vue de leur évolution démocratique.   \n",
       "1                                                                                                                                                                                                                                La France est une République indivisible, laïque, démocratique et sociale. Elle assure l'égalité devant la loi de tous les citoyens sans distinction d'origine, de race ou de religion. Elle respecte toutes les croyances. Son organisation est décentralisée.La loi favorise l'égal accès des femmes et des hommes aux mandats électoraux et fonctions électives, ainsi qu'aux responsabilités professionnelles et sociales.   \n",
       "2                                                                                                                                                                                                                                                                                                                                                               La langue de la République est le français. L'emblème national est le drapeau tricolore, bleu, blanc, rouge. L'hymne national est la \"Marseillaise\". La devise de la République est \"Liberté, Egalité, Fraternité\". Son principe est : gouvernement du peuple, par le peuple et pour le peuple.   \n",
       "3                                                                                                                                                            La souveraineté nationale appartient au peuple qui l'exerce par ses représentants et par la voie du référendum. Aucune section du peuple ni aucun individu ne peut s'en attribuer l'exercice. Le suffrage peut être direct ou indirect dans les conditions prévues par la Constitution. Il est toujours universel, égal et secret. Sont électeurs, dans les conditions déterminées par la loi, tous les nationaux français majeurs des deux sexes, jouissant de leurs droits civils et politiques.   \n",
       "4                                                                                                                                      Les partis et groupements politiques concourent à l'expression du suffrage. Ils se forment et exercent leur activité librement. Ils doivent respecter les principes de la souveraineté nationale et de la démocratie.Ils contribuent à la mise en oeuvre du principe énoncé au second alinéa de l'article 1er dans les conditions déterminées par la loi.La loi garantit les expressions pluralistes des opinions et la participation équitable des partis et groupements politiques à la vie démocratique de la Nation.   \n",
       "\n",
       "   no_article  \n",
       "0           1  \n",
       "1           2  \n",
       "2           3  \n",
       "3           4  \n",
       "4           5  "
      ]
     },
     "execution_count": 56,
     "metadata": {},
     "output_type": "execute_result"
    }
   ],
   "source": [
    "corpus_df = pd.DataFrame({'article':corpus_docs,'no_article':corpus_labels})\n",
    "corpus_df.head()"
   ]
  },
  {
   "cell_type": "markdown",
   "metadata": {},
   "source": [
    " ## Analyse  de la distribution des caracteres :\n"
   ]
  },
  {
   "cell_type": "code",
   "execution_count": 57,
   "metadata": {},
   "outputs": [
    {
     "data": {
      "text/plain": [
       "0                                                                                                                                                                                                                                                                                                                                                                                                                                                                                                                                                                              Le Peuple français proclame solennellement son attachement aux Droits de l'Homme et aux principes de la souveraineté nationale tels qu'ils sont définis par la Déclaration de 1789, confirmée et complétée par le préambule de la Constitution de 1946, ainsi qu'aux droits et devoirs définis dans la Charte de l'environnement de 2004. En vertu de ces principes et de celui de la libre détermination des peuples, la République offre aux territoires d'outre-mer qui manifestent la volonté d'y adhérer des institutions nouvelles fondées sur l'idéal commun de liberté, d'égalité et de fraternité et conçues en vue de leur évolution démocratique.\n",
       "1                                                                                                                                                                                                                                                                                                                                                                                                                                                                                                                                                                                                                                                                                                                                                                                                            La France est une République indivisible, laïque, démocratique et sociale. Elle assure l'égalité devant la loi de tous les citoyens sans distinction d'origine, de race ou de religion. Elle respecte toutes les croyances. Son organisation est décentralisée.La loi favorise l'égal accès des femmes et des hommes aux mandats électoraux et fonctions électives, ainsi qu'aux responsabilités professionnelles et sociales.\n",
       "2                                                                                                                                                                                                                                                                                                                                                                                                                                                                                                                                                                                                                                                                                                                                                                                                                                                                                                                                           La langue de la République est le français. L'emblème national est le drapeau tricolore, bleu, blanc, rouge. L'hymne national est la \"Marseillaise\". La devise de la République est \"Liberté, Egalité, Fraternité\". Son principe est : gouvernement du peuple, par le peuple et pour le peuple.\n",
       "3                                                                                                                                                                                                                                                                                                                                                                                                                                                                                                                                                                                                                                                                                                                                        La souveraineté nationale appartient au peuple qui l'exerce par ses représentants et par la voie du référendum. Aucune section du peuple ni aucun individu ne peut s'en attribuer l'exercice. Le suffrage peut être direct ou indirect dans les conditions prévues par la Constitution. Il est toujours universel, égal et secret. Sont électeurs, dans les conditions déterminées par la loi, tous les nationaux français majeurs des deux sexes, jouissant de leurs droits civils et politiques.\n",
       "4                                                                                                                                                                                                                                                                                                                                                                                                                                                                                                                                                                                                                                                                                                                  Les partis et groupements politiques concourent à l'expression du suffrage. Ils se forment et exercent leur activité librement. Ils doivent respecter les principes de la souveraineté nationale et de la démocratie.Ils contribuent à la mise en oeuvre du principe énoncé au second alinéa de l'article 1er dans les conditions déterminées par la loi.La loi garantit les expressions pluralistes des opinions et la participation équitable des partis et groupements politiques à la vie démocratique de la Nation.\n",
       "                                                                                                                                                                                                                                                                                                                                                                                                                                                                                                                                                                                                                       ...                                                                                                                                                                                                                                                                                                                                                                                                                                                                                                                                                                                                                 \n",
       "100                                                                                                                                                                                                                                    Le Gouvernement soumet à l'Assemblée nationale et au Sénat, dès leur transmission au Conseil de l'Union européenne, les projets d'actes législatifs européens et les autres projets ou propositions d'actes de l'Union européenne. Selon des modalités fixées par le règlement de chaque assemblée, des résolutions européennes peuvent être adoptées, le cas échéant en dehors des sessions, sur les projets ou propositions mentionnés au premier alinéa, ainsi que sur tout document émanant d'une institution de l'Union européenne. Au sein de chaque assemblée parlementaire est instituée une commission chargée des affaires européennes.Loi constitutionnelle n° 2008-103 du 4 février 2008, art. 2 : le présent article entrera en vigueur à compter de l'entrée en vigueur du traité de Lisbonne modifiant le traité sur l'Union européenne et le traité instituant la Communauté européenne, signé le 13 décembre 2007. Le traité de Lisbonne est entré en vigueur le 1er décembre 2009.\n",
       "101                                              Tout projet de loi autorisant la ratification d'un traité relatif à l'adhésion d'un État à l'Union européenne est soumis au référendum par le Président de la République. Toutefois, par le vote d'une motion adoptée en termes identiques par chaque assemblée à la majorité des trois cinquièmes, le Parlement peut autoriser l'adoption du projet de loi selon la procédure prévue au troisième alinéa de l'article 89.Loi constitutionnelle n° 2008-103 du 4 février 2008, art. 2 : le présent article entrera en vigueur à compter de l'entrée en vigueur du traité de Lisbonne modifiant le traité sur l'Union européenne et le traité instituant la Communauté européenne, signé le 13 décembre 2007. Le traité de Lisbonne est entré en vigueur le 1er décembre 2009.Loi constitutionnelle n° 2008-724 du 23 juillet 2008 article 47 III : L'article 88-5 de la Constitution, dans sa rédaction résultant tant de l'article 44 de la présente loi constitutionnelle que du 2° du I du présent article, n'est pas applicable aux adhésions faisant suite à une conférence intergouvernementale dont la convocation a été décidée par le Conseil européen avant le 1er juillet 2004.\n",
       "102    L'Assemblée nationale ou le Sénat peuvent émettre un avis motivé sur la conformité d'un projet d'acte législatif européen au principe de subsidiarité.L'avis est adressé par le président de l'assemblée concernée aux présidents du Parlement européen, du Conseil et de la Commission européenne. Le Gouvernement en est informé. Chaque assemblée peut former un recours devant la Cour de justice de l'Union européenne contre un acte législatif européen pour violation du principe de subsidiarité. Ce recours est transmis à la Cour de justice de l'Union européenne par le Gouvernement. À cette fin, des résolutions peuvent être adoptées, le cas échéant en dehors des sessions, selon des modalités d'initiative et de discussion fixées par le règlement de chaque assemblée. À la demande de soixante députés ou de soixante sénateurs, le recours est de droit. Loi constitutionnelle n° 2008-103 du 4 février 2008, art. 2 : le présent article entrera en vigueur à compter de l'entrée en vigueur du traité de Lisbonne modifiant le traité sur l'Union européenne et le traité instituant la Communauté européenne, signé le 13 décembre 2007. Le traité de Lisbonne est entré en vigueur le 1er décembre 2009.\n",
       "103                                                                                                                                                                                                                                                                                                                                                                                                     Par le vote d'une motion adoptée en termes identiques par l'Assemblée nationale et le Sénat, le Parlement peut s'opposer à une modification des règles d'adoption d'actes de l'Union européenne dans les cas prévus, au titre de la révision simplifiée des traités ou de la coopération judiciaire civile, par le traité sur l'Union européenne et le traité sur le fonctionnement de l'Union européenne, tels qu'ils résultent du traité signé à Lisbonne le 13 décembre 2007.Loi constitutionnelle n° 2008-103 du 4 février 2008, art. 2 : le présent article entrera en vigueur à compter de l'entrée en vigueur du traité de Lisbonne modifiant le traité sur l'Union européenne et le traité instituant la Communauté européenne, signé le 13 décembre 2007. Le traité de Lisbonne est entré en vigueur le 1er décembre 2009.\n",
       "104                                                                                                                                                                                                                                         L'initiative de la révision de la Constitution appartient concurremment au Président de la République sur proposition du Premier ministre et aux membres du Parlement. Le projet ou la proposition de révision doit être examiné dans les conditions de délai fixées au troisième alinéa de l'article 42 et voté par les deux assemblées en termes identiques. La révision est définitive après avoir été approuvée par référendum. Toutefois, le projet de révision n'est pas présenté au référendum lorsque le Président de la République décide de le soumettre au Parlement convoqué en Congrès ; dans ce cas, le projet de révision n'est approuvé que s'il réunit la majorité des trois cinquièmes des suffrages exprimés. Le bureau du Congrès est celui de l'Assemblée nationale. Aucune procédure de révision ne peut être engagée ou poursuivie lorsqu'il est porté atteinte à l'intégrité du territoire. La forme républicaine du Gouvernement ne peut faire l'objet d'une révision.\n",
       "Name: article, Length: 105, dtype: object"
      ]
     },
     "execution_count": 57,
     "metadata": {},
     "output_type": "execute_result"
    }
   ],
   "source": [
    "# temporary variable\n",
    "corpus_ = corpus_df.article\n",
    "corpus_"
   ]
  },
  {
   "cell_type": "code",
   "execution_count": 58,
   "metadata": {},
   "outputs": [
    {
     "name": "stdout",
     "output_type": "stream",
     "text": [
      "<class 'str'> 73015\n"
     ]
    },
    {
     "data": {
      "text/plain": [
       "'Le Peuple français proclame solennellement son attachement aux Droits de l\\'Homme et aux principes de la souveraineté nationale tels qu\\'ils sont définis par la Déclaration de 1789, confirmée et complétée par le préambule de la Constitution de 1946, ainsi qu\\'aux droits et devoirs définis dans la Charte de l\\'environnement de 2004. En vertu de ces principes et de celui de la libre détermination des peuples, la République offre aux territoires d\\'outre-mer qui manifestent la volonté d\\'y adhérer des institutions nouvelles fondées sur l\\'idéal commun de liberté, d\\'égalité et de fraternité et conçues en vue de leur évolution démocratique.\\nLa France est une République indivisible, laïque, démocratique et sociale. Elle assure l\\'égalité devant la loi de tous les citoyens sans distinction d\\'origine, de race ou de religion. Elle respecte toutes les croyances. Son organisation est décentralisée.La loi favorise l\\'égal accès des femmes et des hommes aux mandats électoraux et fonctions électives, ainsi qu\\'aux responsabilités professionnelles et sociales.\\nLa langue de la République est le français. L\\'emblème national est le drapeau tricolore, bleu, blanc, rouge. L\\'hymne national est la \"Marseillaise\". La devise de la République est \"Liberté, Egalité, Fraternité\". Son principe est : gouvernement du peuple, par le peuple et pour le peuple.\\nLa souveraineté nationale appartient au peuple qui l\\'exerce par ses représentants et par la voie du référendum. Aucune section du peuple ni aucun individu ne peut s\\'en attribuer l\\'exercice. Le suffrage peut être direct ou indirect dans les conditions prévues par la Constitution. Il est toujours universel, égal et secret. Sont électeurs, dans les conditions déterminées par la loi, tous les nationaux français majeurs des deux sexes, jouissant de leurs droits civils et politiques.\\nLes partis et groupements politiques concourent à l\\'expression du suffrage. Ils se forment et exercent leur activité librement. Ils doivent respecter les principes de la souveraineté nationale et de la démocratie.Ils contribuent à la mise en oeuvre du principe énoncé au second alinéa de l\\'article 1er dans les conditions déterminées par la loi.La loi garantit les expressions pluralistes des opinions et la participation équitable des partis et groupements politiques à la vie démocratique de la Nation.\\nLe Président de la République veille au respect de la Constitution. Il assure, par son arbitrage, le fonctionnement régulier des pouvoirs publics ainsi que la continuité de l\\'Etat. Il est le garant de l\\'indépendance nationale, de l\\'intégrité du territoire et du respect des traités.\\nLe Président de la République est élu pour cinq ans au suffrage universel direct.Nul ne peut exercer plus de deux mandats consécutifs.Les modalités d\\'application du présent article sont fixées par une loi organique.\\nLe Président de la République est élu à la majorité absolue des suffrages exprimés. Si celle-ci n\\'est pas obtenue au premier tour du scrutin, il est procédé, le quatorzième jour suivant, à un second tour. Seuls peuvent s\\'y présenter les deux candidats qui, le cas échéant aprés retrait de candidats plus favorisés, se trouvent avoir recueilli le plus grand nombre de suffrages au premier tour. Le scrutin est ouvert sur convocation du Gouvernement. L\\'élection du nouveau Président a lieu vingt jours au moins et trente-cinq jours au plus avant l\\'expiration des pouvoirs du Président en exercice. En cas de vacance de la Présidence de la République pour quelque cause que ce soit, ou d\\'empêchement constaté par le Conseil constitutionnel saisi par le Gouvernement et statuant à la majorité absolue de ses membres, les fonctions du Président de la République, à l\\'exception de celles prévues aux articles 11 et 12 ci-dessous, sont provisoirement exercées par le Président du Sénat et, si celui-ci est à son tour empêché d\\'exercer ses fonctions, par le Gouvernement. En cas de vacance ou lorsque l\\'empêchement est déclaré définitif par le Conseil constitutionnel, le scrutin pour l\\'élection du nouveau Président a lieu, sauf cas de force majeure constaté par le Conseil constitutionnel, vingt jours au moins et trente-cinq jours au plus, après l\\'ouverture de la vacance ou la déclaration du caractère définitif de l\\'empêchement. Si, dans les sept jours précédant la date limite du dépôt des présentations de candidatures, une des personnes ayant, moins de trente jours avant cette date, annoncé publiquement sa décision d\\'être candidate décède ou se trouve empêchée, le Conseil constitutionnel peut décider de reporter l\\'élection. Si, avant le premier tour, un des candidats décède ou se trouve empêché, le Conseil constitutionnel prononce le report de l\\'élection. En cas de décès ou d\\'empêchement de l\\'un des deux candidats les plus favorisés au premier tour avant les retraits éventuels, le Conseil constitutionnel déclare qu\\'il doit être procédé de nouveau à l\\'ensemble des opérations électorales ; il en est de même en cas de décès ou d\\'empêchement de l\\'un des deux candidats restés en présence en vue du second tour. Dans tous les cas, le Conseil constitutionnel est saisi dans les conditions fixées au deuxième alinéa de l\\'article 61 ci-dessous ou dans celles déterminées pour la présentation d\\'un candidat par la loi organique prévue à l\\'article 6 ci-dessus. Le Conseil constitutionnel peut proroger les délais prévus aux troisième et cinquième alinéas sans que le scrutin puisse avoir lieu plus de trente-cinq jours après la date de la décision du Conseil constitutionnel. Si l\\'application des dispositions du présent alinéa a eu pour effet de reporter l\\'élection à une date postérieure à l\\'expiration des pouvoirs du Président en exercice, celui-ci demeure en fonctions jusqu\\'à la proclamation de son successeur. Il ne peut être fait application ni des articles 49 et 50 ni de l\\'article 89 de la Constitution durant la vacance de la Présidence de la République ou durant la période qui s\\'écoule entre la déclaration du caractère définitif de l\\'empêchement du Président de la République et l\\'élection de son successeur.\\nLe Président de la République nomme le Premier Ministre. Il met fin à ses fonctions sur la présentation par celui-ci de la démission du Gouvernement. Sur la proposition du Premier ministre, il nomme les autres membres du Gouvernement et met fin à leurs fonctions.\\nLe Président de la République préside le conseil des ministres.\\nLe Président de la République promulgue les lois dans les quinze jours qui suivent la transmission au Gouvernement de la loi définitivement adoptée. Il peut, avant l\\'expiration de ce délai, demander au Parlement une nouvelle délibération de la loi ou de certains de ses articles. Cette nouvelle délibération ne peut être refusée.\\nLe Président de la République, sur proposition du Gouvernement pendant la durée des sessions ou sur proposition conjointe des deux assemblées, publiées au Journal officiel, peut soumettre au référendum tout projet de loi portant sur l\\'organisation des pouvoirs publics, sur des réformes relatives à la politique économique, sociale ou environnementale de la nation et aux services publics qui y concourent, ou tendant à autoriser la ratification d\\'un traité qui, sans être contraire à la Constitution, aurait des incidences sur le fonctionnement des institutions.Lorsque le référendum est organisé sur proposition du Gouvernement, celui-ci fait, devant chaque assemblée, une déclaration qui est suivie d\\'un débat.Un référendum portant sur un objet mentionné au premier alinéa peut être organisé à l\\'initiative d\\'un cinquième des membres du Parlement, soutenue par un dixième des électeurs inscrits sur les listes électorales. Cette initiative prend la forme d\\'une proposition de loi et ne peut avoir pour objet l\\'abrogation d\\'une disposition législative promulguée depuis moins d\\'un an. Les conditions de sa présentation et celles dans lesquelles le Conseil constitutionnel contrôle le respect des dispositions de l\\'alinéa précédent sont déterminées par une loi organique. Si la proposition de loi n\\'a pas été examinée par les deux assemblées dans un délai fixé par la loi organique, le Président de la République la soumet au référendum. Lorsque la proposition de loi n\\'est pas adoptée par le peuple français, aucune nouvelle proposition de référendum portant sur le même sujet ne peut être présentée avant l\\'expiration d\\'un délai de deux ans suivant la date du scrutin. Lorsque le référendum a conclu à l\\'adoption du projet ou de la proposition de loi, le Président de la République promulgue la loi dans les quinze jours qui suivent la proclamation des résultats de la consultation.Loi constitutionnelle n° 2008-724 du 23 juillet 2008 article 46 I : Les articles 11, 13, le dernier alinéa de l\\'article 25, les articles 34-1, 39, 44, 56, 61-1, 65, 69, 71-1 et 73 de la Constitution, dans leur rédaction résultant de la présente loi constitutionnelle, entrent en vigueur dans les conditions fixées par les lois et lois organiques nécessaires à leur application. La loi organique n°2013-1114 du 6 décembre 2013 portant application de l’article 11 de la Constitution et prévue à l’article 46-I de la loi constitutionnelle n° 2008-724 du 23 juillet 2008, entrera en vigueur le 1er janvier 2015 en vertu de son article 10 disposant que : \" La présente loi organique entre en vigueur le premier jour du treizième mois suivant celui de sa promulgation.\"\\nLe Président de la République peut, après consultation du Premier ministre et des Présidents des Assemblées, prononcer la dissolution de l\\'Assemblée nationale. Les élections générales ont lieu vingt jours au moins et quarante jours au plus après la dissolution. L\\'Assemblée nationale se réunit de plein droit le deuxième jeudi qui suit son élection. Si cette réunion a lieu en dehors de la période prévue pour la session ordinaire, une session est ouverte de droit pour une durée de quinze jours. Il ne peut être procédé à une nouvelle dissolution dans l\\'année qui suit ces élections.\\nLe Président de la République signe les ordonnances et les décrets délibérés en Conseil des ministres.Il nomme aux emplois civils et militaires de l\\'Etat.Les conseillers d\\'Etat, le grand chancelier de la Légion d\\'honneur, les ambassadeurs et envoyés extraordinaires, les conseillers maîtres à la Cour des comptes, les préfets, les représentants de l\\'Etat dans les collectivités d\\'outre-mer régies par l\\'article 74 et en Nouvelle-Calédonie, les officiers généraux, les recteurs des académies, les directeurs des administrations centrales, sont nommés en Conseil des ministres.Une loi organique détermine les autres emplois auxquels il est pourvu en conseil des ministres ainsi que les conditions dans lesquelles le pouvoir de nomination du Président de la République peut être par lui délégué pour être exercé en son nom.Une loi organique détermine les emplois ou fonctions, autres que ceux mentionnés au troisième alinéa, pour lesquels, en raison de leur importance pour la garantie des droits et libertés ou la vie économique et sociale de la Nation, le pouvoir de nomination du Président de la République s\\'exerce après avis public de la commission permanente compétente de chaque assemblée. Le Président de la République ne peut procéder à une nomination lorsque l\\'addition des votes négatifs dans chaque commission représente au moins trois cinquièmes des suffrages exprimés au sein des deux commissions. La loi détermine les commissions permanentes compétentes selon les emplois ou fonctions concernés.\\nLe Président de la République accrédite les ambassadeurs et les envoyés extraordinaires auprès des puissances étrangères ; les ambassadeurs et les envoyés extraordinaires étrangers sont accrédités auprès de lui.\\nLe Président de la République est le chef des armées. Il préside les conseils et comités supérieurs de la Défense nationale.\\nLorsque les institutions de la République, l\\'indépendance de la Nation, l\\'intégrité de son territoire ou l\\'exécution de ses engagements internationaux sont menacés (1) d\\'une manière grave et immédiate et que le fonctionnement régulier des pouvoirs publics constitutionnels est interrompu, le Président de la République prend les mesures exigées par ces circonstances, après consultation officielle du Premier ministre, des Présidents des Assemblées ainsi que du Conseil constitutionnel.Il en informe la Nation par un message.Ces mesures doivent être inspirées par la volonté d\\'assurer aux pouvoirs publics constitutionnels, dans les moindres délais, les moyens d\\'accomplir leur mission. Le Conseil constitutionnel est consulté à leur sujet.Le Parlement se réunit de plein droit.L\\'Assemblée nationale ne peut être dissoute pendant l\\'exercice des pouvoirs exceptionnels.Après trente jours d\\'exercice des pouvoirs exceptionnels, le Conseil constitutionnel peut être saisi par le Président de l\\'Assemblée nationale, le Président du Sénat, soixante députés ou soixante sénateurs, aux fins d\\'examiner si les conditions énoncées au premier alinéa demeurent réunies. Il se prononce dans les délais les plus brefs par un avis public. Il procède de plein droit à cet examen et se prononce dans les mêmes conditions au terme de soixante jours d\\'exercice des pouvoirs exceptionnels et à tout moment au-delà de cette durée.\\nLe Président de la République a le droit de faire grâce à titre individuel.\\nLe Président de la République communique avec les deux Assemblées du Parlement par des messages qu\\'il fait lire et qui ne donnent lieu à aucun débat.Il peut prendre la parole devant le Parlement réuni à cet effet en Congrès. Sa déclaration peut donner lieu, hors sa présence, à un débat qui ne fait l\\'objet d\\'aucun vote. Hors session, les assemblées parlementaires sont réunies spécialement à cet effet.\\nLes actes du Président de la République autres que ceux prévus aux articles 8 (1er alinéa), 11, 12, 16, 18, 54, 56 et 61 sont contresignés par le Premier ministre et, le cas échéant, par les ministres responsables.\\nLe Gouvernement détermine et conduit la politique de la Nation. Il dispose de l\\'administration et de la force armée. Il est responsable devant le Parlement dans les conditions et suivant les procédures prévues aux articles 49 et 50.\\nLe Premier ministre dirige l\\'action du Gouvernement. Il est responsable de la Défense nationale. Il assure l\\'exécution des lois. Sous réserve des dispositions de l\\'article 13, il exerce le pouvoir réglementaire et nomme aux emplois civils et militaires. Il peut déléguer certains de ses pouvoirs aux ministres. Il supplée, le cas échéant, le Président de la République dans la présidence des conseils et comités prévus à l\\'article 15. Il peut, à titre exceptionnel, le suppléer pour la présidence d\\'un Conseil des ministres en vertu d\\'une délégation expresse et pour un ordre du jour déterminé.\\nLes actes du Premier ministre sont contresignés, le cas échéant, par les ministres chargés de leur exécution.\\nLes fonctions de membre du Gouvernement sont incompatibles avec l\\'exercice de tout mandat parlementaire, de toute fonction de représentation professionnelle à caractère national et de tout emploi public ou de toute activité professionnelle. Une loi organique fixe les conditions dans lesquelles il est pourvu au remplacement des titulaires de tels mandats, fonctions ou emplois. Le remplacement des membres du Parlement a lieu conformément aux dispositions de l\\'article 25.\\nLe Parlement vote la loi. Il contrôle l\\'action du Gouvernement. Il évalue les politiques publiques. Il comprend l\\'Assemblée nationale et le Sénat. Les députés à l\\'Assemblée nationale, dont le nombre ne peut excéder cinq cent soixante-dix-sept, sont élus au suffrage direct. Le Sénat, dont le nombre de membres ne peut excéder trois cent quarante-huit, est élu au suffrage indirect. Il assure la représentation des collectivités territoriales de la République. Les Français établis hors de France sont représentés à l\\'Assemblée nationale et au Sénat.\\nUne loi organique fixe la durée des pouvoirs de chaque assemblée, le nombre de ses membres, leur indemnité, les conditions d\\'éligibilité, le régime des inéligibilités et des incompatibilités.Elle fixe également les conditions dans lesquelles sont élues les personnes appelées à assurer, en cas de vacance du siège, le remplacement des députés ou des sénateurs jusqu\\'au renouvellement général ou partiel de l\\'assemblée à laquelle ils appartenaient ou leur remplacement temporaire en cas d\\'acceptation par eux de fonctions gouvernementales.Une commission indépendante, dont la loi fixe la composition et les règles d\\'organisation et de fonctionnement, se prononce par un avis public sur les projets de texte et propositions de loi délimitant les circonscriptions pour l\\'élection des députés ou modifiant la répartition des sièges de députés ou de sénateurs.Les dispositions de l\\'article 25 de la Constitution relatives au caractère temporaire du remplacement des députés et sénateurs acceptant des fonctions gouvernementales, dans leur rédaction résultant de la présente loi constitutionnelle, s\\'appliquent aux députés et sénateurs ayant accepté de telles fonctions antérieurement à la date d\\'entrée en vigueur de la loi organique prévue à cet article si, à cette même date, ils exercent encore ces fonctions et que le mandat parlementaire pour lequel ils avaient été élus n\\'est pas encore expiré.\\nAucun membre du Parlement ne peut être poursuivi, recherché arrêté, détenu ou jugé à l\\'occasion des opinions ou votes émis par lui dans l\\'exercice de ses fonctions. Aucun membre du Parlement ne peut faire l\\'objet, en matière criminelle ou correctionnelle, d\\'une arrestation ou de toute autre mesure privative ou restrictive de liberté qu\\'avec l\\'autorisation du Bureau de l\\'assemblée dont il fait partie. Cette autorisation n\\'est pas requise en cas de crime ou délit flagrant ou de condamnation définitive. La détention, les mesures privatives ou restrictives de liberté ou la poursuite d\\'un membre du Parlement sont suspendues pour la durée de la session si l\\'assemblée dont il fait partie le requiert. L\\'assemblée intéressée est réunie de plein droit pour des séances supplémentaires pour permettre, le cas échéant, l\\'application de l\\'alinéa ci-dessus.\\nTout mandat impératif est nul. Le droit de vote des membres du Parlement est personnel. La loi organique peut autoriser exceptionnellement la délégation de vote. Dans ce cas, nul ne peut recevoir délégation de plus d\\'un mandat.\\nLe Parlement se réunit de plein droit en une session ordinaire qui commence le premier jour ouvrable d\\'octobre et prend fin le dernier jour ouvrable de juin. Le nombre de jours de séance que chaque assemblée peut tenir au cours de la session ordinaire ne peut excéder cent vingt. Les semaines de séance sont fixées par chaque assemblée. Le Premier ministre, après consultation du président de l\\'assemblée concernée, ou la majorité des membres de chaque assemblée peut décider la tenue de jours supplémentaires de séance. Les jours et les horaires des séances sont déterminés par le règlement de chaque assemblée.\\nLe Parlement est réuni en session extraordinaire à la demande du Premier ministre ou de la majorité des membres composant l\\'Assemblée nationale, sur un ordre du jour déterminé. Lorsque la session extraordinaire est tenue à la demande des membres de l\\'Assemblée nationale, le décret de clôture intervient dès que le Parlement a épuisé l\\'ordre du jour pour lequel il a été convoqué et au plus tard douze jours à compter de sa réunion. Le Premier ministre peut seul demander une nouvelle session avant l\\'expiration du mois qui suit le décret de clôture.\\nHors les cas dans lesquels le Parlement se réunit de plein droit, les sessions extraordinaires sont ouvertes et closes par décret du Président de la République.\\nLes membres du Gouvernement ont accès aux deux Assemblées. Ils sont entendus quand ils le demandent. Ils peuvent se faire assister par des commissaires du Gouvernement.\\nLe Président de l\\'Assemblée nationale est élu pour la durée de la législature. Le Président du Sénat est élu après chaque renouvellement partiel.\\nLes séances des deux Assemblées sont publiques. Le compte-rendu intégral des débats est publié au Journal officiel. Chaque Assemblée peut siéger en comité secret à la demande du Premier ministre ou d\\'un dixième de ses membres.\\nLa loi fixe les règles concernant :-les droits civiques et les garanties fondamentales accordées aux citoyens pour l\\'exercice des libertés publiques ; la liberté, le pluralisme et l\\'indépendance des médias ; les sujétions imposées par la Défense nationale aux citoyens en leur personne et en leurs biens ;-la nationalité, l\\'état et la capacité des personnes, les régimes matrimoniaux, les successions et libéralités ;-la détermination des crimes et délits ainsi que les peines qui leur sont applicables ; la procédure pénale ; l\\'amnistie ; la création de nouveaux ordres de juridiction et le statut des magistrats ;-l\\'assiette, le taux et les modalités de recouvrement des impositions de toutes natures ; le régime d\\'émission de la monnaie. La loi fixe également les règles concernant :-le régime électoral des assemblées parlementaires, des assemblées locales et des instances représentatives des Français établis hors de France ainsi que les conditions d\\'exercice des mandats électoraux et des fonctions électives des membres des assemblées délibérantes des collectivités territoriales ;-la création de catégories d\\'établissements publics ;-les garanties fondamentales accordées aux fonctionnaires civils et militaires de l\\'Etat ;-les nationalisations d\\'entreprises et les transferts de propriété d\\'entreprises du secteur public au secteur privé. La loi détermine les principes fondamentaux :-de l\\'organisation générale de la Défense nationale ;-de la libre administration des collectivités territoriales, de leurs compétences et de leurs ressources ;-de l\\'enseignement ;-de la préservation de l\\'environnement ;-du régime de la propriété, des droits réels et des obligations civiles et commerciales ;-du droit du travail, du droit syndical et de la sécurité sociale. Les lois de finances déterminent les ressources et les charges de l\\'Etat dans les conditions et sous les réserves prévues par une loi organique. Les lois de financement de la sécurité sociale déterminent les conditions générales de son équilibre financier et, compte tenu de leurs prévisions de recettes, fixent ses objectifs de dépenses, dans les conditions et sous les réserves prévues par une loi organique. Des lois de programmation déterminent les objectifs de l\\'action de l\\'État. Les orientations pluriannuelles des finances publiques sont définies par des lois de programmation. Elles s\\'inscrivent dans l\\'objectif d\\'équilibre des comptes des administrations publiques.Les dispositions du présent article pourront être précisées et complétées par une loi organique.\\nLes assemblées peuvent voter des résolutions dans les conditions fixées par la loi organique. Sont irrecevables et ne peuvent être inscrites à l\\'ordre du jour les propositions de résolution dont le Gouvernement estime que leur adoption ou leur rejet serait de nature à mettre en cause sa responsabilité ou qu\\'elles contiennent des injonctions à son égard.\\nLa déclaration de guerre est autorisée par le Parlement.Le Gouvernement informe le Parlement de sa décision de faire intervenir les forces armées à l\\'étranger, au plus tard trois jours après le début de l\\'intervention. Il précise les objectifs poursuivis. Cette information peut donner lieu à un débat qui n\\'est suivi d\\'aucun vote. Lorsque la durée de l\\'intervention excède quatre mois, le Gouvernement soumet sa prolongation à l\\'autorisation du Parlement. Il peut demander à l\\'Assemblée nationale de décider en dernier ressort. Si le Parlement n\\'est pas en session à l\\'expiration du délai de quatre mois, il se prononce à l\\'ouverture de la session suivante.\\nL\\'Etat de siège est décrété en Conseil des ministres. Sa prorogation au-delà de douze jours ne peut être autorisée que par le Parlement.\\nLes matières autres que celles qui sont du domaine de la loi ont un caractère réglementaire. Les textes de forme législative intervenus en ces matières peuvent être modifiés par décrets pris après avis du Conseil d\\'Etat. Ceux de ces textes qui interviendraient après l\\'entrée en vigueur de la présente Constitution ne pourront être modifiés par décret que si le Conseil constitutionnel a déclaré qu\\'ils ont un caractère réglementaire en vertu de l\\'alinéa précédent.\\nLa loi et le règlement peuvent comporter, pour un objet et une durée limités, des dispositions à caractère expérimental.\\nLe Gouvernement peut, pour l\\'exécution de son programme, demander au Parlement l\\'autorisation de prendre par ordonnances, pendant un délai limité, des mesures qui sont normalement du domaine de la loi.Les ordonnances sont prises en Conseil des ministres après avis du Conseil d\\'Etat. Elles entrent en vigueur dès leur publication mais deviennent caduques si le projet de loi de ratification n\\'est pas déposé devant le Parlement avant la date fixée par la loi d\\'habilitation. Elles ne peuvent être ratifiées que de manière expresse.A l\\'expiration du délai mentionné au premier alinéa du présent article, les ordonnances ne peuvent plus être modifiées que par la loi dans les matières qui sont du domaine législatif.\\nL\\'initiative des lois appartient concurremment au Premier ministre et aux membres du Parlement. Les projets de loi sont délibérés en conseil des ministres après avis du Conseil d\\'Etat et déposés sur le bureau de l\\'une des deux Assemblées. Les projets de loi de finances et de loi de financement de la sécurité sociale sont soumis en premier lieu à l\\'Assemblée nationale. Sans préjudice du premier alinéa de l\\'article 44, les projets de loi ayant pour principal objet l\\'organisation des collectivités territoriales sont soumis en premier lieu au Sénat. La présentation des projets de loi déposés devant l\\'Assemblée nationale ou le Sénat répond aux conditions fixées par une loi organique. Les projets de loi ne peuvent être inscrits à l\\'ordre du jour si la Conférence des présidents de la première assemblée saisie constate que les règles fixées par la loi organique sont méconnues. En cas de désaccord entre la Conférence des présidents et le Gouvernement, le président de l\\'assemblée intéressée ou le Premier ministre peut saisir le Conseil constitutionnel qui statue dans un délai de huit jours. Dans les conditions prévues par la loi, le président d\\'une assemblée peut soumettre pour avis au Conseil d\\'État, avant son examen en commission, une proposition de loi déposée par l\\'un des membres de cette assemblée, sauf si ce dernier s\\'y oppose.\\nLes propositions et amendements formulés par les membres du Parlement ne sont pas recevables lorsque leur adoption aurait pour conséquence soit une diminution des ressources publiques, soit la création ou l\\'aggravation d\\'une charge publique.\\nS\\'il apparaît au cours de la procédure législative qu\\'une proposition ou un amendement n\\'est pas du domaine de la loi ou est contraire à une délégation accordée en vertu de l\\'article 38, le Gouvernement ou le président de l\\'assemblée saisie peut opposer l\\'irrecevabilité. En cas de désaccord entre le Gouvernement et le Président de l\\'Assemblée intéressée, le Conseil constitutionnel, à la demande de l\\'un ou de l\\'autre, statue dans un délai de huit jours.\\nLa discussion des projets et des propositions de loi porte, en séance, sur le texte adopté par la commission saisie en application de l\\'article 43 ou, à défaut, sur le texte dont l\\'assemblée a été saisie. Toutefois, la discussion en séance des projets de révision constitutionnelle, des projets de loi de finances et des projets de loi de financement de la sécurité sociale porte, en première lecture devant la première assemblée saisie, sur le texte présenté par le Gouvernement et, pour les autres lectures, sur le texte transmis par l\\'autre assemblée. La discussion en séance, en première lecture, d\\'un projet ou d\\'une proposition de loi ne peut intervenir, devant la première assemblée saisie, qu\\'à l\\'expiration d\\'un délai de six semaines après son dépôt. Elle ne peut intervenir, devant la seconde assemblée saisie, qu\\'à l\\'expiration d\\'un délai de quatre semaines à compter de sa transmission. L\\'alinéa précédent ne s\\'applique pas si la procédure accélérée a été engagée dans les conditions prévues à l\\'article 45. Il ne s\\'applique pas non plus aux projets de loi de finances, aux projets de loi de financement de la sécurité sociale et aux projets relatifs aux états de crise.\\nLes projets et propositions de loi sont envoyés pour examen à l\\'une des commissions permanentes dont le nombre est limité à huit dans chaque assemblée. À la demande du Gouvernement ou de l\\'assemblée qui en est saisie, les projets ou propositions de loi sont envoyés pour examen à une commission spécialement désignée à cet effet.\\nLes membres du Parlement et le Gouvernement ont le droit d\\'amendement. Ce droit s\\'exerce en séance ou en commission selon les conditions fixées par les règlements des assemblées, dans le cadre déterminé par une loi organique.Après l\\'ouverture du débat, le Gouvernement peut s\\'opposer à l\\'examen de tout amendement qui n\\'a pas été antérieurement soumis à la commission.Si le Gouvernement le demande, l\\'Assemblée saisie se prononce par un seul vote sur tout ou partie du texte en discussion en ne retenant que les amendements proposés ou acceptés par le Gouvernement.\\nTout projet ou proposition de loi est examiné successivement dans les deux Assemblées du Parlement en vue de l\\'adoption d\\'un texte identique. Sans préjudice de l\\'application des articles 40 et 41, tout amendement est recevable en première lecture dès lors qu\\'il présente un lien, même indirect, avec le texte déposé ou transmis. Lorsque, par suite d\\'un désaccord entre les deux Assemblées, un projet ou une proposition de loi n\\'a pu être adopté après deux lectures par chaque Assemblée ou, si le Gouvernement a décidé d\\'engager la procédure accélérée sans que les Conférences des présidents s\\'y soient conjointement opposées, après une seule lecture par chacune d\\'entre elles, le Premier ministre ou, pour une proposition de loi, les présidents des deux assemblées agissant conjointement, ont la faculté de provoquer la réunion d\\'une commission mixte paritaire chargée de proposer un texte sur les dispositions restant en discussion. Le texte élaboré par la commission mixte peut être soumis par le Gouvernement pour approbation aux deux Assemblées. Aucun amendement n\\'est recevable sauf accord du Gouvernement. Si la commission mixte ne parvient pas à l\\'adoption d\\'un texte commun ou si ce texte n\\'est pas adopté dans les conditions prévues à l\\'alinéa précédent, le Gouvernement peut, après une nouvelle lecture par l\\'Assemblée nationale et par le Sénat, demander à l\\'Assemblée nationale de statuer définitivement. En ce cas, l\\'Assemblée nationale peut reprendre soit le texte élaboré par la commission mixte, soit le dernier texte voté par elle, modifié le cas échéant par un ou plusieurs des amendements adoptés par le Sénat.\\nLes lois auxquelles la Constitution confère le caractère de lois organiques sont votées et modifiées dans les conditions suivantes : Le projet ou la proposition ne peut, en première lecture, être soumis à la délibération et au vote des assemblées qu\\'à l\\'expiration des délais fixés au troisième alinéa de l\\'article 42. Toutefois, si la procédure accélérée a été engagée dans les conditions prévues à l\\'article 45, le projet ou la proposition ne peut être soumis à la délibération de la première assemblée saisie avant l\\'expiration d\\'un délai de quinze jours après son dépôt. La procédure de l\\'article 45 est applicable. Toutefois, faute d\\'accord entre les deux assemblées, le texte ne peut être adopté par l\\'Assemblée nationale en dernière lecture qu\\'à la majorité absolue de ses membres. Les lois organiques relatives au Sénat doivent être votées dans les mêmes termes par les deux assemblées. Les lois organiques ne peuvent être promulguées qu\\'après déclaration par le Conseil constitutionnel de leur conformité à la Constitution.\\nLe Parlement vote les projets de loi de finances dans les conditions prévues par une loi organique. Si l\\'Assemblée nationale ne s\\'est pas prononcée en première lecture dans le délai de quarante jours après le dépôt d\\'un projet, le Gouvernement saisit le Sénat qui doit statuer dans un délai de quinze jours. Il est ensuite procédé dans les conditions prévues à l\\'article 45. Si le Parlement ne s\\'est pas prononcé dans un délai de soixante-dix jours, les dispositions du projet peuvent être mises en vigueur par ordonnance. Si la loi de finances fixant les ressources et les charges d\\'un exercice n\\'a pas été déposée en temps utile pour être promulguée avant le début de cet exercice, le Gouvernement demande d\\'urgence au Parlement l\\'autorisation de percevoir les impôts et ouvre par décret les crédits se rapportant aux services votés. Les délais prévus au présent article sont suspendus lorsque le Parlement n\\'est pas en session.\\nLe Parlement vote les projets de loi de financement de la sécurité sociale dans les conditions prévues par une loi organique. Si l\\'Assemblée nationale ne s\\'est pas prononcée en première lecture dans le délai de vingt jours après le dépôt d\\'un projet, le Gouvernement saisit le Sénat qui doit statuer dans un délai de quinze jours. Il est ensuite procédé dans les conditions prévues à l\\'article 45. Si le Parlement ne s\\'est pas prononcé dans un délai de cinquante jours, les dispositions du projet peuvent être mises en oeuvre par ordonnance. Les délais prévus au présent article sont suspendus lorsque le Parlement n\\'est pas en session et, pour chaque assemblée, au cours des semaines où elle a décidé de ne pas tenir séance, conformément au deuxième alinéa de l\\'article 28.\\nLa Cour des comptes assiste le Parlement dans le contrôle de l\\'action du Gouvernement. Elle assiste le Parlement et le Gouvernement dans le contrôle de l\\'exécution des lois de finances et de l\\'application des lois de financement de la sécurité sociale ainsi que dans l\\'évaluation des politiques publiques. Par ses rapports publics, elle contribue à l\\'information des citoyens. Les comptes des administrations publiques sont réguliers et sincères. Ils donnent une image fidèle du résultat de leur gestion, de leur patrimoine et de leur situation financière.\\nSans préjudice de l\\'application des trois derniers alinéas de l\\'article 28, l\\'ordre du jour est fixé par chaque assemblée. Deux semaines de séance sur quatre sont réservées par priorité, et dans l\\'ordre que le Gouvernement a fixé, à l\\'examen des textes et aux débats dont il demande l\\'inscription à l\\'ordre du jour. En outre, l\\'examen des projets de loi de finances, des projets de loi de financement de la sécurité sociale et, sous réserve des dispositions de l\\'alinéa suivant, des textes transmis par l\\'autre assemblée depuis six semaines au moins, des projets relatifs aux états de crise et des demandes d\\'autorisation visées à l\\'article 35 est, à la demande du Gouvernement, inscrit à l\\'ordre du jour par priorité. Une semaine de séance sur quatre est réservée par priorité et dans l\\'ordre fixé par chaque assemblée au contrôle de l\\'action du Gouvernement et à l\\'évaluation des politiques publiques. Un jour de séance par mois est réservé à un ordre du jour arrêté par chaque assemblée à l\\'initiative des groupes d\\'opposition de l\\'assemblée intéressée ainsi qu\\'à celle des groupes minoritaires. Une séance par semaine au moins, y compris pendant les sessions extraordinaires prévues à l\\'article 29, est réservée par priorité aux questions des membres du Parlement et aux réponses du Gouvernement.\\nLe Premier ministre, après délibération du Conseil des ministres, engage devant l\\'Assemblée nationale la responsabilité du Gouvernement sur son programme ou éventuellement sur une déclaration de politique générale.L\\'Assemblée nationale met en cause la responsabilité du Gouvernement par le vote d\\'une motion de censure. Une telle motion n\\'est recevable que si elle est signée par un dixième au moins des membres de l\\'Assemblée nationale. Le vote ne peut avoir lieu que quarante-huit heures après son dépôt. Seuls sont recensés les votes favorables à la motion de censure qui ne peut être adoptée qu\\'à la majorité des membres composant l\\'Assemblée. Sauf dans le cas prévu à l\\'alinéa ci-dessous, un député ne peut être signataire de plus de trois motions de censure au cours d\\'une même session ordinaire et de plus d\\'une au cours d\\'une même session extraordinaire.Le Premier ministre peut, après délibération du Conseil des ministres, engager la responsabilité du Gouvernement devant l\\'Assemblée nationale sur le vote d\\'un projet de loi de finances ou de financement de la sécurité sociale. Dans ce cas, ce projet est considéré comme adopté, sauf si une motion de censure, déposée dans les vingt-quatre heures qui suivent, est votée dans les conditions prévues à l\\'alinéa précédent. Le Premier ministre peut, en outre, recourir à cette procédure pour un autre projet ou une proposition de loi par session. Le Premier ministre a la faculté de demander au Sénat l\\'approbation d\\'une déclaration de politique générale.\\nLorsque l\\'Assemblée nationale adopte une motion de censure ou lorsqu\\'elle désapprouve le programme ou une déclaration de politique générale du Gouvernement, le Premier ministre doit remettre au Président de la République la démission du Gouvernement.\\nLa clôture des sessions ordinaires ou des sessions extraordinaires est de droit retardée pour permettre, le cas échéant, l\\'application de l\\'article 49.A cette même fin, des séances supplémentaires sont de droit.\\nLe Président de la République négocie et ratifie les traités. Il est informé de toute négociation tendant à la conclusion d\\'un accord international non soumis à ratification.\\nLes traités de paix, les traités de commerce, les traités ou accords relatifs à l\\'organisation internationale, ceux qui engagent les finances de l\\'Etat, ceux qui modifient les dispositions de nature législative, ceux qui sont relatifs à l\\'état des personnes, ceux qui comportent cession, échange ou adjonction de territoire, ne peuvent être ratifiés ou approuvés qu\\'en vertu d\\'une loi. Ils ne prennent effet qu\\'après avoir été ratifiés ou approuvés. Nulle cession, nul échange, nulle adjonction de territoire n\\'est valable sans le consentement des populations intéressées.\\nLa République peut conclure avec les Etats européens qui sont liés par des engagements identiques aux siens en matière d\\'asile et de protection des Droits de l\\'homme et des libertés fondamentales, des accords déterminant leurs compétences respectives pour l\\'examen des demandes d\\'asile qui leur sont présentées. Toutefois, même si la demande n\\'entre pas dans leur compétence en vertu de ces accords, les autorités de la République ont toujours le droit de donner asile à tout étranger persécuté en raison de son action en faveur de la liberté ou qui sollicite la protection de la France pour un autre motif.\\nLa République peut reconnaître la juridiction de la Cour pénale internationale dans les conditions prévues par le traité signé le 18 juillet 1998.\\nSi le Conseil constitutionnel, saisi par le Président de la République, par le Premier ministre, par le président de l\\'une ou l\\'autre assemblée ou par soixante députés ou soixante sénateurs, a déclaré qu\\'un engagement international comporte une clause contraire à la Constitution, l\\'autorisation de ratifier ou d\\'approuver l\\'engagement international en cause ne peut intervenir qu\\'après la révision de la Constitution.\\nLes traités ou accords régulièrement ratifiés ou approuvés ont, dès leur publication, une autorité supérieure à celle des lois, sous réserve, pour chaque accord ou traité, de son application par l\\'autre partie.\\nLe Conseil constitutionnel comprend neuf membres, dont le mandat dure neuf ans et n\\'est pas renouvelable. Le Conseil constitutionnel se renouvelle par tiers tous les trois ans. Trois des membres sont nommés par le Président de la République, trois par le président de l\\'Assemblée nationale, trois par le président du Sénat. La procédure prévue au dernier alinéa de l\\'article 13 est applicable à ces nominations. Les nominations effectuées par le président de chaque assemblée sont soumises au seul avis de la commission permanente compétente de l\\'assemblée concernée. En sus des neuf membres prévus ci-dessus, font de droit partie à vie du Conseil constitutionnel les anciens Présidents de la République. Le Président est nommé par le Président de la République. Il a voix prépondérante en cas de partage.\\nLes fonctions de membre du Conseil constitutionnel sont incompatibles avec celles de ministre ou de membre du Parlement. Les autres incompatibilités sont fixées par une loi organique.\\nLe Conseil constitutionnel veille à la régularité de l\\'élection du Président de la République. Il examine les réclamations et proclame les résultats du scrutin.\\nLe Conseil constitutionnel statue, en cas de contestation, sur la régularité de l\\'élection des députés et des sénateurs.\\nLe Conseil constitutionnel veille à la régularité des opérations de référendum prévues aux articles 11 et 89 et au titre XV. Il en proclame les résultats.\\nLes lois organiques, avant leur promulgation, les propositions de loi mentionnées à l\\'article 11 avant qu\\'elles ne soient soumises au référendum, et les règlements des assemblées parlementaires, avant leur mise en application, doivent être soumis au Conseil constitutionnel, qui se prononce sur leur conformité à la Constitution. Aux mêmes fins, les lois peuvent être déférées au Conseil constitutionnel, avant leur promulgation, par le Président de la République, le Premier ministre, le Président de l\\'Assemblée nationale, le Président du Sénat ou soixante députés ou soixante sénateurs. Dans les cas prévus aux deux alinéas précédents, le Conseil constitutionnel doit statuer dans le délai d\\'un mois. Toutefois, à la demande du Gouvernement, s\\'il y a urgence, ce délai est ramené à huit jours. Dans ces mêmes cas, la saisine du Conseil constitutionnel suspend le délai de promulgation.\\nLorsque, à l\\'occasion d\\'une instance en cours devant une juridiction, il est soutenu qu\\'une disposition législative porte atteinte aux droits et libertés que la Constitution garantit, le Conseil constitutionnel peut être saisi de cette question sur renvoi du Conseil d\\'État ou de la Cour de cassation qui se prononce dans un délai déterminé. Une loi organique détermine les conditions d\\'application du présent article. La loi organique n° 2009-1523 du 10 décembre 2009 relative à l\\'application de l\\'article 61-1 de la Constitution a été publiée au Journal officiel du 11 décembre 2009.\\nUne disposition déclarée inconstitutionnelle sur le fondement de l\\'article 61 ne peut être promulguée ni mise en application. Une disposition déclarée inconstitutionnelle sur le fondement de l\\'article 61-1 est abrogée à compter de la publication de la décision du Conseil constitutionnel ou d\\'une date ultérieure fixée par cette décision. Le Conseil constitutionnel détermine les conditions et limites dans lesquelles les effets que la disposition a produits sont susceptibles d\\'être remis en cause. Les décisions du Conseil constitutionnel ne sont susceptibles d\\'aucun recours. Elles s\\'imposent aux pouvoirs publics et à toutes les autorités administratives et juridictionnelles.\\nUne loi organique détermine les règles d\\'organisation et de fonctionnement du Conseil constitutionnel, la procédure qui est suivie devant lui, et notamment les délais ouverts pour le saisir de contestations.\\nLe Président de la République est garant de l\\'indépendance de l\\'autorité judiciaire. Il est assisté par le Conseil supérieur de la magistrature. Une loi organique porte statut des magistrats. Les magistrats du siège sont inamovibles.\\nLe Conseil supérieur de la magistrature comprend une formation compétente à l\\'égard des magistrats du siège et une formation compétente à l\\'égard des magistrats du parquet. La formation compétente à l\\'égard des magistrats du siège est présidée par le premier président de la Cour de cassation. Elle comprend, en outre, cinq magistrats du siège et un magistrat du parquet, un conseiller d\\'État désigné par le Conseil d\\'État, un avocat ainsi que six personnalités qualifiées qui n\\'appartiennent ni au Parlement, ni à l\\'ordre judiciaire, ni à l\\'ordre administratif. Le Président de la République, le Président de l\\'Assemblée nationale et le Président du Sénat désignent chacun deux personnalités qualifiées. La procédure prévue au dernier alinéa de l\\'article 13 est applicable aux nominations des personnalités qualifiées. Les nominations effectuées par le président de chaque assemblée du Parlement sont soumises au seul avis de la commission permanente compétente de l\\'assemblée intéressée. La formation compétente à l\\'égard des magistrats du parquet est présidée par le procureur général près la Cour de cassation. Elle comprend, en outre, cinq magistrats du parquet et un magistrat du siège, ainsi que le conseiller d\\'État, l\\'avocat et les six personnalités qualifiées mentionnés au deuxième alinéa. La formation du Conseil supérieur de la magistrature compétente à l\\'égard des magistrats du siège fait des propositions pour les nominations des magistrats du siège à la Cour de cassation, pour celles de premier président de cour d\\'appel et pour celles de président de tribunal de grande instance. Les autres magistrats du siège sont nommés sur son avis conforme. La formation du Conseil supérieur de la magistrature compétente à l\\'égard des magistrats du parquet donne son avis sur les nominations qui concernent les magistrats du parquet. La formation du Conseil supérieur de la magistrature compétente à l\\'égard des magistrats du siège statue comme conseil de discipline des magistrats du siège. Elle comprend alors, outre les membres visés au deuxième alinéa, le magistrat du siège appartenant à la formation compétente à l\\'égard des magistrats du parquet. La formation du Conseil supérieur de la magistrature compétente à l\\'égard des magistrats du parquet donne son avis sur les sanctions disciplinaires qui les concernent. Elle comprend alors, outre les membres visés au troisième alinéa, le magistrat du parquet appartenant à la formation compétente à l\\'égard des magistrats du siège. Le Conseil supérieur de la magistrature se réunit en formation plénière pour répondre aux demandes d\\'avis formulées par le Président de la République au titre de l\\'article 64. Il se prononce, dans la même formation, sur les questions relatives à la déontologie des magistrats ainsi que sur toute question relative au fonctionnement de la justice dont le saisit le ministre de la justice. La formation plénière comprend trois des cinq magistrats du siège mentionnés au deuxième alinéa, trois des cinq magistrats du parquet mentionnés au troisième alinéa, ainsi que le conseiller d\\'État, l\\'avocat et les six personnalités qualifiées mentionnés au deuxième alinéa. Elle est présidée par le premier président de la Cour de cassation, que peut suppléer le procureur général près cette cour. Sauf en matière disciplinaire, le ministre de la justice peut participer aux séances des formations du Conseil supérieur de la magistrature. Le Conseil supérieur de la magistrature peut être saisi par un justiciable dans les conditions fixées par une loi organique. La loi organique détermine les conditions d\\'application du présent article.\\nNul ne peut être arbitrairement détenu. L\\'autorité judiciaire, gardienne de la liberté individuelle, assure le respect de ce principe dans les conditions prévues par la loi.\\nNul ne peut être condamné à la peine de mort.\\nLe Président de la République n\\'est pas responsable des actes accomplis en cette qualité, sous réserve des dispositions des articles 53-2 et 68. Il ne peut, durant son mandat et devant aucune juridiction ou autorité administrative française, être requis de témoigner non plus que faire l\\'objet d\\'une action, d\\'un acte d\\'information, d\\'instruction ou de poursuite. Tout délai de prescription ou de forclusion est suspendu. Les instances et procédures auxquelles il est ainsi fait obstacle peuvent être reprises ou engagées contre lui à l\\'expiration d\\'un délai d\\'un mois suivant la cessation des fonctions.\\nLe Président de la République ne peut être destitué qu\\'en cas de manquement à ses devoirs manifestement incompatible avec l\\'exercice de son mandat. La destitution est prononcée par le Parlement constitué en Haute Cour. La proposition de réunion de la Haute Cour adoptée par une des assemblées du Parlement est aussitôt transmise à l\\'autre qui se prononce dans les quinze jours. La Haute Cour est présidée par le président de l\\'Assemblée nationale. Elle statue dans un délai d\\'un mois, à bulletins secrets, sur la destitution. Sa décision est d\\'effet immédiat. Les décisions prises en application du présent article le sont à la majorité des deux tiers des membres composant l\\'assemblée concernée ou la Haute Cour. Toute délégation de vote est interdite. Seuls sont recensés les votes favorables à la proposition de réunion de la Haute Cour ou à la destitution. Une loi organique fixe les conditions d\\'application du présent article.\\nLes membres du Gouvernement sont pénalement responsables des actes accomplis dans l\\'exercice de leurs fonctions et qualifiés crimes ou délits au moment où ils ont été commis. Ils sont jugés par la Cour de justice de la République. La Cour de justice de la République est liée par la définition des crimes et délits ainsi que par la détermination des peines telles qu\\'elles résultent de la loi.\\nLa Cour de justice de la République comprend quinze juges : douze parlementaires élus, en leur sein et en nombre égal, par l\\'Assemblée nationale et par le Sénat après chaque renouvellement général ou partiel de ces assemblées et trois magistrats du siège à la Cour de cassation, dont l\\'un préside la Cour de justice de la République. Toute personne qui se prétend lésée par un crime ou un délit commis par un membre du Gouvernement dans l\\'exercice de ses fonctions peut porter plainte auprès d\\'une commission des requêtes. Cette commission ordonne soit le classement de la procédure, soit sa transmission au procureur général près la Cour de cassation aux fins de saisine de la Cour de justice de la République. Le procureur général près la Cour de cassation peut aussi saisir d\\'office la Cour de justice de la République sur avis conforme de la commission des requêtes. Une loi organique détermine les conditions d\\'application du présent article.\\nLes dispositions du présent titre sont applicables aux faits commis avant son entrée en vigueur.\\nLe Conseil économique, social et environnemental, saisi par le Gouvernement, donne son avis sur les projets de loi, d\\'ordonnance ou de décret ainsi que sur les propositions de loi qui lui sont soumis.Un membre du Conseil économique, social et environnemental peut être désigné par celui-ci pour exposer devant les assemblées parlementaires l\\'avis du Conseil sur les projets ou propositions qui lui ont été soumis.Le Conseil économique, social et environnemental peut être saisi par voie de pétition dans les conditions fixées par une loi organique. Après examen de la pétition, il fait connaître au Gouvernement et au Parlement les suites qu\\'il propose d\\'y donner.\\nLe Conseil économique, social et environnemental peut être consulté par le Gouvernement et le Parlement sur tout problème de caractère économique, social ou environnemental. Le Gouvernement peut également le consulter sur les projets de loi de programmation définissant les orientations pluriannuelles des finances publiques. Tout plan ou tout projet de loi de programmation à caractère économique, social ou environnemental lui est soumis pour avis.\\nLa composition du Conseil économique, social et environnemental, dont le nombre de membres ne peut excéder deux cent trente-trois, et ses règles de fonctionnement sont fixées par une loi organique.\\nLe Défenseur des droits veille au respect des droits et libertés par les administrations de l\\'État, les collectivités territoriales, les établissements publics, ainsi que par tout organisme investi d\\'une mission de service public, ou à l\\'égard duquel la loi organique lui attribue des compétences. Il peut être saisi, dans les conditions prévues par la loi organique, par toute personne s\\'estimant lésée par le fonctionnement d\\'un service public ou d\\'un organisme visé au premier alinéa. Il peut se saisir d\\'office. La loi organique définit les attributions et les modalités d\\'intervention du Défenseur des droits. Elle détermine les conditions dans lesquelles il peut être assisté par un collège pour l\\'exercice de certaines de ses attributions. Le Défenseur des droits est nommé par le Président de la République pour un mandat de six ans non renouvelable, après application de la procédure prévue au dernier alinéa de l\\'article 13. Ses fonctions sont incompatibles avec celles de membre du Gouvernement et de membre du Parlement. Les autres incompatibilités sont fixées par la loi organique. Le Défenseur des droits rend compte de son activité au Président de la République et au Parlement.\\nLes collectivités territoriales de la République sont les communes, les départements, les régions, les collectivités à statut particulier et les collectivités d\\'outre-mer régies par l\\'article 74. Toute autre collectivité territoriale est créée par la loi, le cas échéant en lieu et place d\\'une ou de plusieurs collectivités mentionnées au présent alinéa. Les collectivités territoriales ont vocation à prendre les décisions pour l\\'ensemble des compétences qui peuvent le mieux être mises en oeuvre à leur échelon. Dans les conditions prévues par la loi, ces collectivités s\\'administrent librement par des conseils élus et disposent d\\'un pouvoir réglementaire pour l\\'exercice de leurs compétences. Dans les conditions prévues par la loi organique, et sauf lorsque sont en cause les conditions essentielles d\\'exercice d\\'une liberté publique ou d\\'un droit constitutionnellement garanti, les collectivités territoriales ou leurs groupements peuvent, lorsque, selon le cas, la loi ou le règlement l\\'a prévu, déroger, à titre expérimental et pour un objet et une durée limités, aux dispositions législatives ou réglementaires qui régissent l\\'exercice de leurs compétences. Aucune collectivité territoriale ne peut exercer une tutelle sur une autre. Cependant, lorsque l\\'exercice d\\'une compétence nécessite le concours de plusieurs collectivités territoriales, la loi peut autoriser l\\'une d\\'entre elles ou un de leurs groupements à organiser les modalités de leur action commune. Dans les collectivités territoriales de la République, le représentant de l\\'Etat, représentant de chacun des membres du Gouvernement, a la charge des intérêts nationaux, du contrôle administratif et du respect des lois.\\nLa loi fixe les conditions dans lesquelles les électeurs de chaque collectivité territoriale peuvent, par l\\'exercice du droit de pétition, demander l\\'inscription à l\\'ordre du jour de l\\'assemblée délibérante de cette collectivité d\\'une question relevant de sa compétence. Dans les conditions prévues par la loi organique, les projets de délibération ou d\\'acte relevant de la compétence d\\'une collectivité territoriale peuvent, à son initiative, être soumis, par la voie du référendum, à la décision des électeurs de cette collectivité. Lorsqu\\'il est envisagé de créer une collectivité territoriale dotée d\\'un statut particulier ou de modifier son organisation, il peut être décidé par la loi de consulter les électeurs inscrits dans les collectivités intéressées. La modification des limites des collectivités territoriales peut également donner lieu à la consultation des électeurs dans les conditions prévues par la loi.\\nLes collectivités territoriales bénéficient de ressources dont elles peuvent disposer librement dans les conditions fixées par la loi. Elles peuvent recevoir tout ou partie du produit des impositions de toutes natures. La loi peut les autoriser à en fixer l\\'assiette et le taux dans les limites qu\\'elle détermine. Les recettes fiscales et les autres ressources propres des collectivités territoriales représentent, pour chaque catégorie de collectivités, une part déterminante de l\\'ensemble de leurs ressources. La loi organique fixe les conditions dans lesquelles cette règle est mise en oeuvre. Tout transfert de compétences entre l\\'Etat et les collectivités territoriales s\\'accompagne de l\\'attribution de ressources équivalentes à celles qui étaient consacrées à leur exercice. Toute création ou extension de compétences ayant pour conséquence d\\'augmenter les dépenses des collectivités territoriales est accompagnée de ressources déterminées par la loi. La loi prévoit des dispositifs de péréquation destinés à favoriser l\\'égalité entre les collectivités territoriales.\\nLa République reconnaît, au sein du peuple français, les populations d\\'outre-mer, dans un idéal commun de liberté, d\\'égalité et de fraternité. La Guadeloupe, la Guyane, la Martinique, La Réunion, Mayotte, Saint-Barthélemy, Saint-Martin, Saint-Pierre-et-Miquelon, les îles Wallis et Futuna et la Polynésie française sont régis par l\\'article 73 pour les départements et les régions d\\'outre-mer et pour les collectivités territoriales créées en application du dernier alinéa de l\\'article 73, et par l\\'article 74 pour les autres collectivités. Le statut de la Nouvelle-Calédonie est régi par le titre XIII. La loi détermine le régime législatif et l\\'organisation particulière des Terres australes et antarctiques françaises et de Clipperton.\\nAucun changement, pour tout ou partie de l\\'une des collectivités mentionnées au deuxième alinéa de l\\'article 72-3, de l\\'un vers l\\'autre des régimes prévus par les articles 73 et 74, ne peut intervenir sans que le consentement des électeurs de la collectivité ou de la partie de collectivité intéressée ait été préalablement recueilli dans les conditions prévues à l\\'alinéa suivant. Ce changement de régime est décidé par une loi organique. Le Président de la République, sur proposition du Gouvernement pendant la durée des sessions ou sur proposition conjointe des deux assemblées, publiées au Journal officiel, peut décider de consulter les électeurs d\\'une collectivité territoriale située outre-mer sur une question relative à son organisation, à ses compétences ou à son régime législatif. Lorsque la consultation porte sur un changement prévu à l\\'alinéa précédent et est organisée sur proposition du Gouvernement, celui-ci fait, devant chaque assemblée, une déclaration qui est suivie d\\'un débat.\\nDans les départements et les régions d\\'outre-mer, les lois et règlements sont applicables de plein droit. Ils peuvent faire l\\'objet d\\'adaptations tenant aux caractéristiques et contraintes particulières de ces collectivités. Ces adaptations peuvent être décidées par ces collectivités dans les matières où s\\'exercent leurs compétences et si elles y ont été habilitées selon le cas, par la loi ou par le règlement. Par dérogation au premier alinéa et pour tenir compte de leurs spécificités, les collectivités régies par le présent article peuvent être habilitées, selon le cas, par la loi ou par le règlement, à fixer elles-mêmes les règles applicables sur leur territoire, dans un nombre limité de matières pouvant relever du domaine de la loi ou du règlement. Ces règles ne peuvent porter sur la nationalité, les droits civiques, les garanties des libertés publiques, l\\'état et la capacité des personnes, l\\'organisation de la justice, le droit pénal, la procédure pénale, la politique étrangère, la défense, la sécurité et l\\'ordre publics, la monnaie, le crédit et les changes, ainsi que le droit électoral. Cette énumération pourra être précisée et complétée par une loi organique. La disposition prévue aux deux précédents alinéas n\\'est pas applicable au département et à la région de La Réunion. Les habilitations prévues aux deuxième et troisième alinéas sont décidées, à la demande de la collectivité concernée, dans les conditions et sous les réserves prévues par une loi organique. Elles ne peuvent intervenir lorsque sont en cause les conditions essentielles d\\'exercice d\\'une liberté publique ou d\\'un droit constitutionnellement garanti. La création par la loi d\\'une collectivité se substituant à un département et une région d\\'outre-mer ou l\\'institution d\\'une assemblée délibérante unique pour ces deux collectivités ne peut intervenir sans qu\\'ait été recueilli, selon les formes prévues au second alinéa de l\\'article 72-4, le consentement des électeurs inscrits dans le ressort de ces collectivités.\\nLes collectivités d\\'outre-mer régies par le présent article ont un statut qui tient compte des intérêts propres de chacune d\\'elles au sein de la République. Ce statut est défini par une loi organique, adoptée après avis de l\\'assemblée délibérante, qui fixe : -les conditions dans lesquelles les lois et règlements y sont applicables ; -les compétences de cette collectivité ; sous réserve de celles déjà exercées par elle, le transfert de compétences de l\\'Etat ne peut porter sur les matières énumérées au quatrième alinéa de l\\'article 73, précisées et complétées, le cas échéant, par la loi organique ; -les règles d\\'organisation et de fonctionnement des institutions de la collectivité et le régime électoral de son assemblée délibérante ; -les conditions dans lesquelles ses institutions sont consultées sur les projets et propositions de loi et les projets d\\'ordonnance ou de décret comportant des dispositions particulières à la collectivité, ainsi que sur la ratification ou l\\'approbation d\\'engagements internationaux conclus dans les matières relevant de sa compétence. La loi organique peut également déterminer, pour celles de ces collectivités qui sont dotées de l\\'autonomie, les conditions dans lesquelles : -le Conseil d\\'Etat exerce un contrôle juridictionnel spécifique sur certaines catégories d\\'actes de l\\'assemblée délibérante intervenant au titre des compétences qu\\'elle exerce dans le domaine de la loi ; -l\\'assemblée délibérante peut modifier une loi promulguée postérieurement à l\\'entrée en vigueur du statut de la collectivité, lorsque le Conseil constitutionnel, saisi notamment par les autorités de la collectivité, a constaté que la loi était intervenue dans le domaine de compétence de cette collectivité ; -des mesures justifiées par les nécessités locales peuvent être prises par la collectivité en faveur de sa population, en matière d\\'accès à l\\'emploi, de droit d\\'établissement pour l\\'exercice d\\'une activité professionnelle ou de protection du patrimoine foncier ; -la collectivité peut participer, sous le contrôle de l\\'Etat, à l\\'exercice des compétences qu\\'il conserve, dans le respect des garanties accordées sur l\\'ensemble du territoire national pour l\\'exercice des libertés publiques. Les autres modalités de l\\'organisation particulière des collectivités relevant du présent article sont définies et modifiées par la loi après consultation de leur assemblée délibérante.\\nDans les collectivités d\\'outre-mer visées à l\\'article 74 et en Nouvelle-Calédonie, le Gouvernement peut, par ordonnances, dans les matières qui demeurent de la compétence de l\\'État, étendre, avec les adaptations nécessaires, les dispositions de nature législative en vigueur en métropole ou adapter les dispositions de nature législative en vigueur à l\\'organisation particulière de la collectivité concernée, sous réserve que la loi n\\'ait pas expressément exclu, pour les dispositions en cause, le recours à cette procédure. Les ordonnances sont prises en conseil des ministres après avis des assemblées délibérantes intéressées et du Conseil d\\'Etat. Elles entrent en vigueur dès leur publication. Elles deviennent caduques en l\\'absence de ratification par le Parlement dans le délai de dix-huit mois suivant cette publication.\\nLes citoyens de la République qui n\\'ont pas le statut civil de droit commun, seul visé à l\\'article 34, conservent leur statut personnel tant qu\\'ils n\\'y ont pas renoncé.\\nLes populations de la Nouvelle-Calédonie sont appelées à se prononcer avant le 31 décembre 1998 sur les dispositions de l\\'accord signé à Nouméa le 5 mai 1998 et publié le 27 mai 1998 au Journal officiel de la République française. Sont admises à participer au scrutin les personnes remplissant les conditions fixées à l\\'article 2 de la loi n° 88-1028 du 9 novembre 1988. Les mesures nécessaires à l\\'organisation du scrutin sont prises par décret en Conseil d\\'Etat délibéré en conseil des ministres.\\nAprès approbation de l\\'accord lors de la consultation prévue à l\\'article 76, la loi organique, prise après avis de l\\'assemblée délibérante de la Nouvelle-Calédonie, détermine, pour assurer l\\'évolution de la Nouvelle-Calédonie dans le respect des orientations définies par cet accord et selon les modalités nécessaires à sa mise en oeuvre : -les compétences de l\\'Etat qui seront transférées, de façon définitive, aux institutions de la Nouvelle-Calédonie, l\\'échelonnement et les modalités de ces transferts, ainsi que la répartition des charges résultant de ceux-ci ; -les règles d\\'organisation et de fonctionnement des institutions de la Nouvelle-Calédonie et notamment les conditions dans lesquelles certaines catégories d\\'actes de l\\'assemblée délibérante de la Nouvelle-Calédonie pourront être soumises avant publication au contrôle du Conseil constitutionnel ; -les règles relatives à la citoyenneté, au régime électoral, à l\\'emploi et au statut civil coutumier ; -les conditions et les délais dans lesquels les populations intéressées de la Nouvelle-Calédonie seront amenées à se prononcer sur l\\'accession à la pleine souveraineté. Les autres mesures nécessaires à la mise en oeuvre de l\\'accord mentionné à l\\'article 76 sont définies par la loi. Pour la définition du corps électoral appelé à élire les membres des assemblées délibérantes de la Nouvelle-Calédonie et des provinces, le tableau auquel se réfèrent l\\'accord mentionné à l\\'article 76 et les articles 188 et 189 de la loi organique n° 99-209 du 19 mars 1999 relative à la Nouvelle-Calédonie est le tableau dressé à l\\'occasion du scrutin prévu audit article 76 et comprenant les personnes non admises à y participer.\\nLa République participe au développement de la solidarité et de la coopération entre les États et les peuples ayant le français en partage.\\nLa République peut conclure des accords avec des Etats qui désirent s\\'associer à elle pour développer leurs civilisations.\\nLa République participe à l\\'Union européenne constituée d\\'Etats qui ont choisi librement d\\'exercer en commun certaines de leurs compétences en vertu du traité sur l\\'Union européenne et du traité sur le fonctionnement de l\\'Union européenne, tels qu\\'ils résultent du traité signé à Lisbonne le 13 décembre 2007.Loi constitutionnelle n° 2008-103 du 4 février 2008, art. 2 : le présent article entrera en vigueur à compter de l\\'entrée en vigueur du traité de Lisbonne modifiant le traité sur l\\'Union européenne et le traité instituant la Communauté européenne, signé le 13 décembre 2007. Le traité de Lisbonne est entré en vigueur le 1er décembre 2009.\\nLa loi fixe les règles relatives au mandat d\\'arrêt européen en application des actes pris par les institutions de l\\'Union européenne. Loi constitutionnelle n° 2008-103 du 4 février 2008, art. 2 : le présent article entrera en vigueur à compter de l\\'entrée en vigueur du traité de Lisbonne modifiant le traité sur l\\'Union européenne et le traité instituant la Communauté européenne, signé le 13 décembre 2007. Le traité de Lisbonne est entré en vigueur le 1er décembre 2009.\\nSous réserve de réciprocité et selon les modalités prévues par le Traité sur l\\'Union européenne signé le 7 février 1992, le droit de vote et d\\'éligibilité aux élections municipales peut être accordé aux seuls citoyens de l\\'Union résidant en France. Ces citoyens ne peuvent exercer les fonctions de maire ou d\\'adjoint ni participer à la désignation des électeurs sénatoriaux et à l\\'élection des sénateurs. Une loi organique votée dans les mêmes termes par les deux assemblées détermine les conditions d\\'application du présent article.\\nLe Gouvernement soumet à l\\'Assemblée nationale et au Sénat, dès leur transmission au Conseil de l\\'Union européenne, les projets d\\'actes législatifs européens et les autres projets ou propositions d\\'actes de l\\'Union européenne. Selon des modalités fixées par le règlement de chaque assemblée, des résolutions européennes peuvent être adoptées, le cas échéant en dehors des sessions, sur les projets ou propositions mentionnés au premier alinéa, ainsi que sur tout document émanant d\\'une institution de l\\'Union européenne. Au sein de chaque assemblée parlementaire est instituée une commission chargée des affaires européennes.Loi constitutionnelle n° 2008-103 du 4 février 2008, art. 2 : le présent article entrera en vigueur à compter de l\\'entrée en vigueur du traité de Lisbonne modifiant le traité sur l\\'Union européenne et le traité instituant la Communauté européenne, signé le 13 décembre 2007. Le traité de Lisbonne est entré en vigueur le 1er décembre 2009.\\nTout projet de loi autorisant la ratification d\\'un traité relatif à l\\'adhésion d\\'un État à l\\'Union européenne est soumis au référendum par le Président de la République. Toutefois, par le vote d\\'une motion adoptée en termes identiques par chaque assemblée à la majorité des trois cinquièmes, le Parlement peut autoriser l\\'adoption du projet de loi selon la procédure prévue au troisième alinéa de l\\'article 89.Loi constitutionnelle n° 2008-103 du 4 février 2008, art. 2 : le présent article entrera en vigueur à compter de l\\'entrée en vigueur du traité de Lisbonne modifiant le traité sur l\\'Union européenne et le traité instituant la Communauté européenne, signé le 13 décembre 2007. Le traité de Lisbonne est entré en vigueur le 1er décembre 2009.Loi constitutionnelle n° 2008-724 du 23 juillet 2008 article 47 III : L\\'article 88-5 de la Constitution, dans sa rédaction résultant tant de l\\'article 44 de la présente loi constitutionnelle que du 2° du I du présent article, n\\'est pas applicable aux adhésions faisant suite à une conférence intergouvernementale dont la convocation a été décidée par le Conseil européen avant le 1er juillet 2004.\\nL\\'Assemblée nationale ou le Sénat peuvent émettre un avis motivé sur la conformité d\\'un projet d\\'acte législatif européen au principe de subsidiarité.L\\'avis est adressé par le président de l\\'assemblée concernée aux présidents du Parlement européen, du Conseil et de la Commission européenne. Le Gouvernement en est informé. Chaque assemblée peut former un recours devant la Cour de justice de l\\'Union européenne contre un acte législatif européen pour violation du principe de subsidiarité. Ce recours est transmis à la Cour de justice de l\\'Union européenne par le Gouvernement. À cette fin, des résolutions peuvent être adoptées, le cas échéant en dehors des sessions, selon des modalités d\\'initiative et de discussion fixées par le règlement de chaque assemblée. À la demande de soixante députés ou de soixante sénateurs, le recours est de droit. Loi constitutionnelle n° 2008-103 du 4 février 2008, art. 2 : le présent article entrera en vigueur à compter de l\\'entrée en vigueur du traité de Lisbonne modifiant le traité sur l\\'Union européenne et le traité instituant la Communauté européenne, signé le 13 décembre 2007. Le traité de Lisbonne est entré en vigueur le 1er décembre 2009.\\nPar le vote d\\'une motion adoptée en termes identiques par l\\'Assemblée nationale et le Sénat, le Parlement peut s\\'opposer à une modification des règles d\\'adoption d\\'actes de l\\'Union européenne dans les cas prévus, au titre de la révision simplifiée des traités ou de la coopération judiciaire civile, par le traité sur l\\'Union européenne et le traité sur le fonctionnement de l\\'Union européenne, tels qu\\'ils résultent du traité signé à Lisbonne le 13 décembre 2007.Loi constitutionnelle n° 2008-103 du 4 février 2008, art. 2 : le présent article entrera en vigueur à compter de l\\'entrée en vigueur du traité de Lisbonne modifiant le traité sur l\\'Union européenne et le traité instituant la Communauté européenne, signé le 13 décembre 2007. Le traité de Lisbonne est entré en vigueur le 1er décembre 2009.\\nL\\'initiative de la révision de la Constitution appartient concurremment au Président de la République sur proposition du Premier ministre et aux membres du Parlement. Le projet ou la proposition de révision doit être examiné dans les conditions de délai fixées au troisième alinéa de l\\'article 42 et voté par les deux assemblées en termes identiques. La révision est définitive après avoir été approuvée par référendum. Toutefois, le projet de révision n\\'est pas présenté au référendum lorsque le Président de la République décide de le soumettre au Parlement convoqué en Congrès ; dans ce cas, le projet de révision n\\'est approuvé que s\\'il réunit la majorité des trois cinquièmes des suffrages exprimés. Le bureau du Congrès est celui de l\\'Assemblée nationale. Aucune procédure de révision ne peut être engagée ou poursuivie lorsqu\\'il est porté atteinte à l\\'intégrité du territoire. La forme républicaine du Gouvernement ne peut faire l\\'objet d\\'une révision.'"
      ]
     },
     "execution_count": 58,
     "metadata": {},
     "output_type": "execute_result"
    }
   ],
   "source": [
    "corpus_chars_list = \"\\n\".join(corpus_)\n",
    "print(type(corpus_chars_list),len(corpus_chars_list))\n",
    "corpus_chars_list"
   ]
  },
  {
   "cell_type": "code",
   "execution_count": 59,
   "metadata": {},
   "outputs": [],
   "source": [
    "fdist = FreqDist([c for c in corpus_chars_list])"
   ]
  },
  {
   "cell_type": "code",
   "execution_count": 60,
   "metadata": {},
   "outputs": [
    {
     "name": "stdout",
     "output_type": "stream",
     "text": [
      "number of characters:73015\n",
      "number of unique characters:80\n"
     ]
    }
   ],
   "source": [
    "print(\"number of characters:\" + str(fdist.N()))\n",
    "print(\"number of unique characters:\" + str(fdist.B()))"
   ]
  },
  {
   "cell_type": "code",
   "execution_count": 61,
   "metadata": {},
   "outputs": [
    {
     "name": "stdout",
     "output_type": "stream",
     "text": [
      "List of unique characters in the corpus:\n",
      "['\\n', ' ', '\"', \"'\", '(', ')', ',', '-', '.', '0', '1', '2', '3', '4', '5', '6', '7', '8', '9', ':', ';', 'A', 'B', 'C', 'D', 'E', 'F', 'G', 'H', 'I', 'J', 'L', 'M', 'N', 'P', 'R', 'S', 'T', 'U', 'V', 'W', 'X', 'a', 'b', 'c', 'd', 'e', 'f', 'g', 'h', 'i', 'j', 'l', 'm', 'n', 'o', 'p', 'q', 'r', 's', 't', 'u', 'v', 'x', 'y', 'z', '°', 'À', 'É', 'à', 'â', 'ç', 'è', 'é', 'ê', 'î', 'ï', 'ô', 'ù', '’']\n"
     ]
    }
   ],
   "source": [
    "u = list(fdist.keys())\n",
    "u.sort()\n",
    "print('List of unique characters in the corpus:')\n",
    "print(u)"
   ]
  },
  {
   "cell_type": "code",
   "execution_count": 62,
   "metadata": {},
   "outputs": [
    {
     "data": {
      "image/png": "[encoded data removed]",
      "text/plain": [
       "<Figure size 432x288 with 1 Axes>"
      ]
     },
     "metadata": {},
     "output_type": "display_data"
    },
    {
     "data": {
      "text/plain": [
       "<matplotlib.axes._subplots.AxesSubplot at 0x19439891e08>"
      ]
     },
     "execution_count": 62,
     "metadata": {},
     "output_type": "execute_result"
    }
   ],
   "source": [
    "fdist.plot(20, cumulative=True) \n",
    "# Les TOP 20 CHARACTERES en mode cumulative (similarity avec loi de pareto )\n"
   ]
  },
  {
   "cell_type": "code",
   "execution_count": 63,
   "metadata": {},
   "outputs": [
    {
     "data": {
      "text/plain": [
       "[(' ', 11139), ('e', 8459), ('s', 4921), ('i', 4561), ('t', 4513)]"
      ]
     },
     "execution_count": 63,
     "metadata": {},
     "output_type": "execute_result"
    }
   ],
   "source": [
    "# the 10 most frequent characters in the corpus\n",
    "#pd.DataFrame(fdist1.most_common(20))\n",
    "fdist.most_common(5)"
   ]
  },
  {
   "cell_type": "markdown",
   "metadata": {},
   "source": [
    "Observations et conclusions\n",
    "\n",
    "Type de caractères : lettres françaises, chiffres, ponctuation et espace.\n",
    "Aucun idée sur la présence d'un caratère spécial qui nécessite une normalisation/un prétraitement particulier."
   ]
  },
  {
   "cell_type": "markdown",
   "metadata": {},
   "source": [
    "## Prétraitement et nettoyage du texte\n",
    "\n",
    "Pipeline :\n",
    "1. Identification de la langue\n",
    "2. Segmentation des phrases\n",
    "3. Supprimer les caractères non textuels\n",
    "4. Convertir en minuscules\n",
    "5. Tokenisation\n",
    "6. Stemming (heuristique simple pour la normalisation des mots)\n",
    "7. Correction orthographique"
   ]
  },
  {
   "cell_type": "markdown",
   "metadata": {},
   "source": [
    "### Identification de la langue"
   ]
  },
  {
   "cell_type": "markdown",
   "metadata": {},
   "source": [
    "### Segmentation des phrases\n",
    "Divisez les documents en phrases."
   ]
  },
  {
   "cell_type": "code",
   "execution_count": 64,
   "metadata": {},
   "outputs": [
    {
     "name": "stdout",
     "output_type": "stream",
     "text": [
      ". 448\n",
      "! 0\n",
      "? 0\n"
     ]
    }
   ],
   "source": [
    "for c in ['.','!','?']:\n",
    "    print(c,fdist[c])"
   ]
  },
  {
   "cell_type": "code",
   "execution_count": 65,
   "metadata": {},
   "outputs": [
    {
     "data": {
      "text/html": [
       "<div>\n",
       "<style scoped>\n",
       "    .dataframe tbody tr th:only-of-type {\n",
       "        vertical-align: middle;\n",
       "    }\n",
       "\n",
       "    .dataframe tbody tr th {\n",
       "        vertical-align: top;\n",
       "    }\n",
       "\n",
       "    .dataframe thead th {\n",
       "        text-align: right;\n",
       "    }\n",
       "</style>\n",
       "<table border=\"1\" class=\"dataframe\">\n",
       "  <thead>\n",
       "    <tr style=\"text-align: right;\">\n",
       "      <th></th>\n",
       "      <th>n_chars</th>\n",
       "      <th>n_sents</th>\n",
       "      <th>n_chars_per_sent</th>\n",
       "    </tr>\n",
       "  </thead>\n",
       "  <tbody>\n",
       "    <tr>\n",
       "      <th>0</th>\n",
       "      <td>636</td>\n",
       "      <td>2</td>\n",
       "      <td>318.000000</td>\n",
       "    </tr>\n",
       "    <tr>\n",
       "      <th>1</th>\n",
       "      <td>414</td>\n",
       "      <td>4</td>\n",
       "      <td>103.500000</td>\n",
       "    </tr>\n",
       "    <tr>\n",
       "      <th>2</th>\n",
       "      <td>287</td>\n",
       "      <td>5</td>\n",
       "      <td>57.400000</td>\n",
       "    </tr>\n",
       "    <tr>\n",
       "      <th>3</th>\n",
       "      <td>482</td>\n",
       "      <td>5</td>\n",
       "      <td>96.400000</td>\n",
       "    </tr>\n",
       "    <tr>\n",
       "      <th>4</th>\n",
       "      <td>504</td>\n",
       "      <td>3</td>\n",
       "      <td>168.000000</td>\n",
       "    </tr>\n",
       "    <tr>\n",
       "      <th>...</th>\n",
       "      <td>...</td>\n",
       "      <td>...</td>\n",
       "      <td>...</td>\n",
       "    </tr>\n",
       "    <tr>\n",
       "      <th>100</th>\n",
       "      <td>964</td>\n",
       "      <td>5</td>\n",
       "      <td>192.800000</td>\n",
       "    </tr>\n",
       "    <tr>\n",
       "      <th>101</th>\n",
       "      <td>1146</td>\n",
       "      <td>4</td>\n",
       "      <td>286.500000</td>\n",
       "    </tr>\n",
       "    <tr>\n",
       "      <th>102</th>\n",
       "      <td>1188</td>\n",
       "      <td>9</td>\n",
       "      <td>132.000000</td>\n",
       "    </tr>\n",
       "    <tr>\n",
       "      <th>103</th>\n",
       "      <td>803</td>\n",
       "      <td>3</td>\n",
       "      <td>267.666667</td>\n",
       "    </tr>\n",
       "    <tr>\n",
       "      <th>104</th>\n",
       "      <td>959</td>\n",
       "      <td>7</td>\n",
       "      <td>137.000000</td>\n",
       "    </tr>\n",
       "  </tbody>\n",
       "</table>\n",
       "<p>105 rows × 3 columns</p>\n",
       "</div>"
      ],
      "text/plain": [
       "     n_chars  n_sents  n_chars_per_sent\n",
       "0        636        2        318.000000\n",
       "1        414        4        103.500000\n",
       "2        287        5         57.400000\n",
       "3        482        5         96.400000\n",
       "4        504        3        168.000000\n",
       "..       ...      ...               ...\n",
       "100      964        5        192.800000\n",
       "101     1146        4        286.500000\n",
       "102     1188        9        132.000000\n",
       "103      803        3        267.666667\n",
       "104      959        7        137.000000\n",
       "\n",
       "[105 rows x 3 columns]"
      ]
     },
     "execution_count": 65,
     "metadata": {},
     "output_type": "execute_result"
    }
   ],
   "source": [
    "from nltk.tokenize import sent_tokenize\n",
    "L1 = [len(article) for article in corpus_df.article]\n",
    "L2 = [len(sent_tokenize(article)) for article in corpus_df.article]\n",
    "article_len_df_ = pd.DataFrame({'n_chars' : L1, 'n_sents' : L2, \\\n",
    "                            'n_chars_per_sent' : np.array(L1)/np.array(L2)})\n",
    "article_len_df_"
   ]
  },
  {
   "cell_type": "code",
   "execution_count": 66,
   "metadata": {
    "scrolled": true
   },
   "outputs": [
    {
     "data": {
      "image/png": "[encoded data removed]",
      "text/plain": [
       "<Figure size 540x540 with 12 Axes>"
      ]
     },
     "metadata": {},
     "output_type": "display_data"
    }
   ],
   "source": [
    "sns.set(style=\"ticks\", color_codes=True)\n",
    "g = sns.pairplot(article_len_df_)"
   ]
  },
  {
   "cell_type": "markdown",
   "metadata": {},
   "source": [
    "#### Créer un corpus de phrases"
   ]
  },
  {
   "cell_type": "code",
   "execution_count": 67,
   "metadata": {},
   "outputs": [
    {
     "data": {
      "text/plain": [
       "(105,\n",
       " [\"Le Peuple français proclame solennellement son attachement aux Droits de l'Homme et aux principes de la souveraineté nationale tels qu'ils sont définis par la Déclaration de 1789, confirmée et complétée par le préambule de la Constitution de 1946, ainsi qu'aux droits et devoirs définis dans la Charte de l'environnement de 2004.\",\n",
       "  \"En vertu de ces principes et de celui de la libre détermination des peuples, la République offre aux territoires d'outre-mer qui manifestent la volonté d'y adhérer des institutions nouvelles fondées sur l'idéal commun de liberté, d'égalité et de fraternité et conçues en vue de leur évolution démocratique.\"])"
      ]
     },
     "execution_count": 67,
     "metadata": {},
     "output_type": "execute_result"
    }
   ],
   "source": [
    "corpus_sentences_ = [sent_tokenize(doc) for doc in corpus_df.article]\n",
    "len(corpus_sentences_),corpus_sentences_[0]"
   ]
  },
  {
   "cell_type": "code",
   "execution_count": 68,
   "metadata": {},
   "outputs": [
    {
     "data": {
      "text/plain": [
       "(105, 410)"
      ]
     },
     "execution_count": 68,
     "metadata": {},
     "output_type": "execute_result"
    }
   ],
   "source": [
    "u = [(sent,corpus_df.no_article[i]) for i,doc in enumerate(corpus_sentences_) for sent in doc]\n",
    "corpus_sent_df = pd.DataFrame(u)\n",
    "corpus_sent_df.columns = ['sentence','qlabel']\n",
    "assert(len(corpus_df)<=len(corpus_sent_df))\n",
    "len(corpus_df),len(corpus_sent_df)"
   ]
  },
  {
   "cell_type": "code",
   "execution_count": 69,
   "metadata": {},
   "outputs": [
    {
     "data": {
      "text/html": [
       "<div>\n",
       "<style scoped>\n",
       "    .dataframe tbody tr th:only-of-type {\n",
       "        vertical-align: middle;\n",
       "    }\n",
       "\n",
       "    .dataframe tbody tr th {\n",
       "        vertical-align: top;\n",
       "    }\n",
       "\n",
       "    .dataframe thead th {\n",
       "        text-align: right;\n",
       "    }\n",
       "</style>\n",
       "<table border=\"1\" class=\"dataframe\">\n",
       "  <thead>\n",
       "    <tr style=\"text-align: right;\">\n",
       "      <th></th>\n",
       "      <th>sentence</th>\n",
       "      <th>qlabel</th>\n",
       "    </tr>\n",
       "  </thead>\n",
       "  <tbody>\n",
       "    <tr>\n",
       "      <th>0</th>\n",
       "      <td>Le Peuple français proclame solennellement son attachement aux Droits de l'Homme et aux principes de la souveraineté nationale tels qu'ils sont définis par la Déclaration de 1789, confirmée et complétée par le préambule de la Constitution de 1946, ainsi qu'aux droits et devoirs définis dans la Charte de l'environnement de 2004.</td>\n",
       "      <td>1</td>\n",
       "    </tr>\n",
       "    <tr>\n",
       "      <th>1</th>\n",
       "      <td>En vertu de ces principes et de celui de la libre détermination des peuples, la République offre aux territoires d'outre-mer qui manifestent la volonté d'y adhérer des institutions nouvelles fondées sur l'idéal commun de liberté, d'égalité et de fraternité et conçues en vue de leur évolution démocratique.</td>\n",
       "      <td>1</td>\n",
       "    </tr>\n",
       "    <tr>\n",
       "      <th>2</th>\n",
       "      <td>La France est une République indivisible, laïque, démocratique et sociale.</td>\n",
       "      <td>2</td>\n",
       "    </tr>\n",
       "    <tr>\n",
       "      <th>3</th>\n",
       "      <td>Elle assure l'égalité devant la loi de tous les citoyens sans distinction d'origine, de race ou de religion.</td>\n",
       "      <td>2</td>\n",
       "    </tr>\n",
       "    <tr>\n",
       "      <th>4</th>\n",
       "      <td>Elle respecte toutes les croyances.</td>\n",
       "      <td>2</td>\n",
       "    </tr>\n",
       "  </tbody>\n",
       "</table>\n",
       "</div>"
      ],
      "text/plain": [
       "                                                                                                                                                                                                                                                                                                                                    sentence  \\\n",
       "0  Le Peuple français proclame solennellement son attachement aux Droits de l'Homme et aux principes de la souveraineté nationale tels qu'ils sont définis par la Déclaration de 1789, confirmée et complétée par le préambule de la Constitution de 1946, ainsi qu'aux droits et devoirs définis dans la Charte de l'environnement de 2004.   \n",
       "1                         En vertu de ces principes et de celui de la libre détermination des peuples, la République offre aux territoires d'outre-mer qui manifestent la volonté d'y adhérer des institutions nouvelles fondées sur l'idéal commun de liberté, d'égalité et de fraternité et conçues en vue de leur évolution démocratique.   \n",
       "2                                                                                                                                                                                                                                                                 La France est une République indivisible, laïque, démocratique et sociale.   \n",
       "3                                                                                                                                                                                                                               Elle assure l'égalité devant la loi de tous les citoyens sans distinction d'origine, de race ou de religion.   \n",
       "4                                                                                                                                                                                                                                                                                                        Elle respecte toutes les croyances.   \n",
       "\n",
       "   qlabel  \n",
       "0       1  \n",
       "1       1  \n",
       "2       2  \n",
       "3       2  \n",
       "4       2  "
      ]
     },
     "execution_count": 69,
     "metadata": {},
     "output_type": "execute_result"
    }
   ],
   "source": [
    "corpus_sent_df.head()"
   ]
  },
  {
   "cell_type": "markdown",
   "metadata": {},
   "source": [
    "### Tokenisation\n",
    "- convertir en minuscules.\n",
    "- convertir le corpus en liste de mots\n",
    "- supprimer tous les caractères autres que les lettres (dans notre cas, la ponctuation)"
   ]
  },
  {
   "cell_type": "code",
   "execution_count": 70,
   "metadata": {},
   "outputs": [],
   "source": [
    "from transformers import CamembertTokenizer, CamembertModel\n",
    "model_name = \"camembert-base\"\n",
    "tokenizer = CamembertTokenizer.from_pretrained(\"camembert-base\")\n",
    "model = CamembertModel.from_pretrained('camembert-base')"
   ]
  },
  {
   "cell_type": "code",
   "execution_count": 71,
   "metadata": {},
   "outputs": [
    {
     "data": {
      "text/plain": [
       "['▁le',\n",
       " '▁peuple',\n",
       " '▁français',\n",
       " '▁proclame',\n",
       " '▁solennelle',\n",
       " 'ment',\n",
       " '▁son',\n",
       " '▁attachement',\n",
       " '▁aux',\n",
       " '▁droits',\n",
       " '▁de',\n",
       " '▁l',\n",
       " \"'\",\n",
       " 'homme',\n",
       " '▁et',\n",
       " '▁aux',\n",
       " '▁principes',\n",
       " '▁de',\n",
       " '▁la',\n",
       " '▁souveraineté',\n",
       " '▁nationale',\n",
       " '▁tels',\n",
       " '▁qu',\n",
       " \"'\",\n",
       " 'ils',\n",
       " '▁sont',\n",
       " '▁définis',\n",
       " '▁par',\n",
       " '▁la',\n",
       " '▁déclaration',\n",
       " '▁de',\n",
       " '▁1789',\n",
       " ',',\n",
       " '▁confirmée',\n",
       " '▁et',\n",
       " '▁complétée',\n",
       " '▁par',\n",
       " '▁le',\n",
       " '▁préambule',\n",
       " '▁de',\n",
       " '▁la',\n",
       " '▁constitution',\n",
       " '▁de',\n",
       " '▁1946',\n",
       " ',',\n",
       " '▁ainsi',\n",
       " '▁qu',\n",
       " \"'\",\n",
       " 'aux',\n",
       " '▁droits',\n",
       " '▁et',\n",
       " '▁devoirs',\n",
       " '▁définis',\n",
       " '▁dans',\n",
       " '▁la',\n",
       " '▁charte',\n",
       " '▁de',\n",
       " '▁l',\n",
       " \"'\",\n",
       " 'environnement',\n",
       " '▁de',\n",
       " '▁2004',\n",
       " '.']"
      ]
     },
     "execution_count": 71,
     "metadata": {},
     "output_type": "execute_result"
    }
   ],
   "source": [
    "# convert les phrases en miniscule et tokenisation avec Camemebert tokenizer\n",
    "corpus_tokens_ = [tokenizer.tokenize(doc.lower()) for doc in corpus_sent_df.sentence]\n",
    "assert(len(corpus_tokens_)==len(corpus_sent_df))\n",
    "corpus_tokens_[0] #la première phrase tokenized"
   ]
  },
  {
   "cell_type": "code",
   "execution_count": 72,
   "metadata": {},
   "outputs": [
    {
     "data": {
      "text/html": [
       "<div>\n",
       "<style scoped>\n",
       "    .dataframe tbody tr th:only-of-type {\n",
       "        vertical-align: middle;\n",
       "    }\n",
       "\n",
       "    .dataframe tbody tr th {\n",
       "        vertical-align: top;\n",
       "    }\n",
       "\n",
       "    .dataframe thead th {\n",
       "        text-align: right;\n",
       "    }\n",
       "</style>\n",
       "<table border=\"1\" class=\"dataframe\">\n",
       "  <thead>\n",
       "    <tr style=\"text-align: right;\">\n",
       "      <th></th>\n",
       "      <th>sentence</th>\n",
       "      <th>qlabel</th>\n",
       "      <th>tokenized_sent</th>\n",
       "    </tr>\n",
       "  </thead>\n",
       "  <tbody>\n",
       "    <tr>\n",
       "      <th>0</th>\n",
       "      <td>Le Peuple français proclame solennellement son attachement aux Droits de l'Homme et aux principes de la souveraineté nationale tels qu'ils sont définis par la Déclaration de 1789, confirmée et complétée par le préambule de la Constitution de 1946, ainsi qu'aux droits et devoirs définis dans la Charte de l'environnement de 2004.</td>\n",
       "      <td>1</td>\n",
       "      <td>[▁le, ▁peuple, ▁français, ▁proclame, ▁solennelle, ment, ▁son, ▁attachement, ▁aux, ▁droits, ▁de, ▁l, ', homme, ▁et, ▁aux, ▁principes, ▁de, ▁la, ▁souveraineté, ▁nationale, ▁tels, ▁qu, ', ils, ▁sont, ▁définis, ▁par, ▁la, ▁déclaration, ▁de, ▁1789, ,, ▁confirmée, ▁et, ▁complétée, ▁par, ▁le, ▁préambule, ▁de, ▁la, ▁constitution, ▁de, ▁1946, ,, ▁ainsi, ▁qu, ', aux, ▁droits, ▁et, ▁devoirs, ▁définis, ▁dans, ▁la, ▁charte, ▁de, ▁l, ', environnement, ▁de, ▁2004, .]</td>\n",
       "    </tr>\n",
       "    <tr>\n",
       "      <th>1</th>\n",
       "      <td>En vertu de ces principes et de celui de la libre détermination des peuples, la République offre aux territoires d'outre-mer qui manifestent la volonté d'y adhérer des institutions nouvelles fondées sur l'idéal commun de liberté, d'égalité et de fraternité et conçues en vue de leur évolution démocratique.</td>\n",
       "      <td>1</td>\n",
       "      <td>[▁en, ▁vertu, ▁de, ▁ces, ▁principes, ▁et, ▁de, ▁celui, ▁de, ▁la, ▁libre, ▁détermination, ▁des, ▁peuples, ,, ▁la, ▁république, ▁offre, ▁aux, ▁territoires, ▁d, ', outre, -, mer, ▁qui, ▁manifestent, ▁la, ▁volonté, ▁d, ', y, ▁adhérer, ▁des, ▁institutions, ▁nouvelles, ▁fondée, s, ▁sur, ▁l, ', idéal, ▁commun, ▁de, ▁liberté, ,, ▁d, ', égalité, ▁et, ▁de, ▁fraternité, ▁et, ▁conçues, ▁en, ▁vue, ▁de, ▁leur, ▁évolution, ▁démocratique, .]</td>\n",
       "    </tr>\n",
       "    <tr>\n",
       "      <th>2</th>\n",
       "      <td>La France est une République indivisible, laïque, démocratique et sociale.</td>\n",
       "      <td>2</td>\n",
       "      <td>[▁la, ▁france, ▁est, ▁une, ▁république, ▁indi, visible, ,, ▁laïque, ,, ▁démocratique, ▁et, ▁sociale, .]</td>\n",
       "    </tr>\n",
       "    <tr>\n",
       "      <th>3</th>\n",
       "      <td>Elle assure l'égalité devant la loi de tous les citoyens sans distinction d'origine, de race ou de religion.</td>\n",
       "      <td>2</td>\n",
       "      <td>[▁elle, ▁assure, ▁l, ', égalité, ▁devant, ▁la, ▁loi, ▁de, ▁tous, ▁les, ▁citoyens, ▁sans, ▁distinction, ▁d, ', origine, ,, ▁de, ▁race, ▁ou, ▁de, ▁religion, .]</td>\n",
       "    </tr>\n",
       "    <tr>\n",
       "      <th>4</th>\n",
       "      <td>Elle respecte toutes les croyances.</td>\n",
       "      <td>2</td>\n",
       "      <td>[▁elle, ▁respecte, ▁toutes, ▁les, ▁croyances, .]</td>\n",
       "    </tr>\n",
       "  </tbody>\n",
       "</table>\n",
       "</div>"
      ],
      "text/plain": [
       "                                                                                                                                                                                                                                                                                                                                    sentence  \\\n",
       "0  Le Peuple français proclame solennellement son attachement aux Droits de l'Homme et aux principes de la souveraineté nationale tels qu'ils sont définis par la Déclaration de 1789, confirmée et complétée par le préambule de la Constitution de 1946, ainsi qu'aux droits et devoirs définis dans la Charte de l'environnement de 2004.   \n",
       "1                         En vertu de ces principes et de celui de la libre détermination des peuples, la République offre aux territoires d'outre-mer qui manifestent la volonté d'y adhérer des institutions nouvelles fondées sur l'idéal commun de liberté, d'égalité et de fraternité et conçues en vue de leur évolution démocratique.   \n",
       "2                                                                                                                                                                                                                                                                 La France est une République indivisible, laïque, démocratique et sociale.   \n",
       "3                                                                                                                                                                                                                               Elle assure l'égalité devant la loi de tous les citoyens sans distinction d'origine, de race ou de religion.   \n",
       "4                                                                                                                                                                                                                                                                                                        Elle respecte toutes les croyances.   \n",
       "\n",
       "   qlabel  \\\n",
       "0       1   \n",
       "1       1   \n",
       "2       2   \n",
       "3       2   \n",
       "4       2   \n",
       "\n",
       "                                                                                                                                                                                                                                                                                                                                                                                                                                                             tokenized_sent  \n",
       "0  [▁le, ▁peuple, ▁français, ▁proclame, ▁solennelle, ment, ▁son, ▁attachement, ▁aux, ▁droits, ▁de, ▁l, ', homme, ▁et, ▁aux, ▁principes, ▁de, ▁la, ▁souveraineté, ▁nationale, ▁tels, ▁qu, ', ils, ▁sont, ▁définis, ▁par, ▁la, ▁déclaration, ▁de, ▁1789, ,, ▁confirmée, ▁et, ▁complétée, ▁par, ▁le, ▁préambule, ▁de, ▁la, ▁constitution, ▁de, ▁1946, ,, ▁ainsi, ▁qu, ', aux, ▁droits, ▁et, ▁devoirs, ▁définis, ▁dans, ▁la, ▁charte, ▁de, ▁l, ', environnement, ▁de, ▁2004, .]  \n",
       "1                             [▁en, ▁vertu, ▁de, ▁ces, ▁principes, ▁et, ▁de, ▁celui, ▁de, ▁la, ▁libre, ▁détermination, ▁des, ▁peuples, ,, ▁la, ▁république, ▁offre, ▁aux, ▁territoires, ▁d, ', outre, -, mer, ▁qui, ▁manifestent, ▁la, ▁volonté, ▁d, ', y, ▁adhérer, ▁des, ▁institutions, ▁nouvelles, ▁fondée, s, ▁sur, ▁l, ', idéal, ▁commun, ▁de, ▁liberté, ,, ▁d, ', égalité, ▁et, ▁de, ▁fraternité, ▁et, ▁conçues, ▁en, ▁vue, ▁de, ▁leur, ▁évolution, ▁démocratique, .]  \n",
       "2                                                                                                                                                                                                                                                                                                                                                                   [▁la, ▁france, ▁est, ▁une, ▁république, ▁indi, visible, ,, ▁laïque, ,, ▁démocratique, ▁et, ▁sociale, .]  \n",
       "3                                                                                                                                                                                                                                                                                                             [▁elle, ▁assure, ▁l, ', égalité, ▁devant, ▁la, ▁loi, ▁de, ▁tous, ▁les, ▁citoyens, ▁sans, ▁distinction, ▁d, ', origine, ,, ▁de, ▁race, ▁ou, ▁de, ▁religion, .]  \n",
       "4                                                                                                                                                                                                                                                                                                                                                                                                                          [▁elle, ▁respecte, ▁toutes, ▁les, ▁croyances, .]  "
      ]
     },
     "execution_count": 72,
     "metadata": {},
     "output_type": "execute_result"
    }
   ],
   "source": [
    "corpus_sent_df['tokenized_sent'] = corpus_tokens_\n",
    "corpus_sent_df.head()\n"
   ]
  },
  {
   "cell_type": "code",
   "execution_count": 73,
   "metadata": {},
   "outputs": [
    {
     "data": {
      "text/plain": [
       "(14315, 1741)"
      ]
     },
     "execution_count": 73,
     "metadata": {},
     "output_type": "execute_result"
    }
   ],
   "source": [
    "## Word frequency distribution\n",
    "corpus_words_ = [word for sent in corpus_sent_df.tokenized_sent for word in sent]\n",
    "fdist2 = FreqDist(corpus_words_)\n",
    "fdist2.N(),fdist2.B()"
   ]
  },
  {
   "cell_type": "code",
   "execution_count": 74,
   "metadata": {},
   "outputs": [
    {
     "data": {
      "text/plain": [
       "[('▁de', 717),\n",
       " (\"'\", 634),\n",
       " (',', 516),\n",
       " ('▁la', 465),\n",
       " ('.', 430),\n",
       " ('▁le', 386),\n",
       " ('▁l', 361),\n",
       " ('▁les', 335),\n",
       " ('▁des', 262),\n",
       " ('▁et', 248)]"
      ]
     },
     "execution_count": 74,
     "metadata": {},
     "output_type": "execute_result"
    }
   ],
   "source": [
    "fdist2.most_common(10)"
   ]
  },
  {
   "cell_type": "code",
   "execution_count": 75,
   "metadata": {},
   "outputs": [
    {
     "name": "stdout",
     "output_type": "stream",
     "text": [
      "Average length: 36.9\n",
      "Max length: 265\n"
     ]
    },
    {
     "data": {
      "image/png": "[encoded data removed]",
      "text/plain": [
       "<Figure size 720x360 with 1 Axes>"
      ]
     },
     "metadata": {},
     "output_type": "display_data"
    }
   ],
   "source": [
    "articles_len = [len(tokenizer.encode(article, max_length=512))\n",
    "                          for article in corpus_sent_df.tokenized_sent]\n",
    "print(\"Average length: {:.1f}\".format(np.mean(articles_len)))\n",
    "print(\"Max length: {}\".format(max(articles_len)))\n",
    "\n",
    "plt.figure(figsize=(10,5))\n",
    "ax = sns.distplot(articles_len, bins=150, kde=False, hist_kws=dict(alpha=0.8))\n",
    "ax.set(xlabel='Number of tokens')\n",
    "\n",
    "# Finalize the plot\n",
    "sns.despine(bottom=True)\n",
    "plt.tight_layout(h_pad=2)\n",
    "\n",
    "# Saving plot\n",
    "fig = ax.get_figure()\n"
   ]
  },
  {
   "cell_type": "markdown",
   "metadata": {},
   "source": [
    "### Supprimer les stopwords avec NLTK\n",
    "Nous utiliserons la liste par défaut des mots-clés de NLTK pour la langue française."
   ]
  },
  {
   "cell_type": "markdown",
   "metadata": {},
   "source": [
    "#### Charger une liste standard de mots vides"
   ]
  },
  {
   "cell_type": "code",
   "execution_count": 76,
   "metadata": {},
   "outputs": [
    {
     "data": {
      "text/plain": [
       "157"
      ]
     },
     "execution_count": 76,
     "metadata": {},
     "output_type": "execute_result"
    }
   ],
   "source": [
    "# Load NLTK stop words\n",
    "stop_words_fr = stopwords.words('french')\n",
    "stop_words_fr = set(stop_words_fr)\n",
    "len(stop_words_fr)"
   ]
  }
 ],
 "metadata": {
  "kernelspec": {
   "display_name": "Python 3",
   "language": "python",
   "name": "python3"
  },
  "language_info": {
   "codemirror_mode": {
    "name": "ipython",
    "version": 3
   },
   "file_extension": ".py",
   "mimetype": "text/x-python",
   "name": "python",
   "nbconvert_exporter": "python",
   "pygments_lexer": "ipython3",
   "version": "3.7.6"
  }
 },
 "nbformat": 4,
 "nbformat_minor": 4
}
